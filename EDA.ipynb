{
 "cells": [
  {
   "cell_type": "markdown",
   "metadata": {},
   "source": [
    "# Tanzania Water Resources\n",
    "## 1. Exploratory Data Analysis"
   ]
  },
  {
   "cell_type": "markdown",
   "metadata": {},
   "source": [
    "Importing the required packages"
   ]
  },
  {
   "cell_type": "code",
   "execution_count": 1,
   "metadata": {
    "collapsed": true
   },
   "outputs": [],
   "source": [
    "import pandas as pd\n",
    "import numpy as np\n",
    "from IPython.display import display # Allows the use of display() for DataFrames\n",
    "import time\n",
    "import pickle #To save the objects \n",
    "import pprint\n",
    "from lxml import html\n",
    "import requests\n",
    "from sklearn.model_selection import train_test_split\n",
    "import warnings\n",
    "warnings.filterwarnings('ignore')\n",
    "from urllib.request import urlopen\n",
    "from bs4 import BeautifulSoup\n",
    "from IPython.display import HTML\n",
    "import re\n",
    "import urllib\n",
    "import os\n",
    "import matplotlib.pyplot as plt\n",
    "import seaborn as sns"
   ]
  },
  {
   "cell_type": "markdown",
   "metadata": {},
   "source": [
    "### Reading the data\n",
    "We are given the following data sets:\n",
    "* training_data.csv (Contains the training data)\n",
    "* training_labels.csv (Contains the target labels)\n",
    "* test_data.csv (test data)\n",
    "\n",
    "Let us read training_data.csv and training_labels.csv, and combine them to form a single data frame. The combined training data will help us to perform the EDA easily."
   ]
  },
  {
   "cell_type": "code",
   "execution_count": 2,
   "metadata": {
    "collapsed": true
   },
   "outputs": [],
   "source": [
    "training_values = pd.read_csv('training_data.csv')\n",
    "training_labels = pd.read_csv('training_labels.csv')"
   ]
  },
  {
   "cell_type": "code",
   "execution_count": 3,
   "metadata": {},
   "outputs": [
    {
     "data": {
      "text/html": [
       "<div>\n",
       "<style>\n",
       "    .dataframe thead tr:only-child th {\n",
       "        text-align: right;\n",
       "    }\n",
       "\n",
       "    .dataframe thead th {\n",
       "        text-align: left;\n",
       "    }\n",
       "\n",
       "    .dataframe tbody tr th {\n",
       "        vertical-align: top;\n",
       "    }\n",
       "</style>\n",
       "<table border=\"1\" class=\"dataframe\">\n",
       "  <thead>\n",
       "    <tr style=\"text-align: right;\">\n",
       "      <th></th>\n",
       "      <th>id</th>\n",
       "      <th>amount_tsh</th>\n",
       "      <th>date_recorded</th>\n",
       "      <th>funder</th>\n",
       "      <th>gps_height</th>\n",
       "      <th>installer</th>\n",
       "      <th>longitude</th>\n",
       "      <th>latitude</th>\n",
       "      <th>wpt_name</th>\n",
       "      <th>num_private</th>\n",
       "      <th>...</th>\n",
       "      <th>payment_type</th>\n",
       "      <th>water_quality</th>\n",
       "      <th>quality_group</th>\n",
       "      <th>quantity</th>\n",
       "      <th>quantity_group</th>\n",
       "      <th>source</th>\n",
       "      <th>source_type</th>\n",
       "      <th>source_class</th>\n",
       "      <th>waterpoint_type</th>\n",
       "      <th>waterpoint_type_group</th>\n",
       "    </tr>\n",
       "  </thead>\n",
       "  <tbody>\n",
       "    <tr>\n",
       "      <th>0</th>\n",
       "      <td>69572</td>\n",
       "      <td>6000.0</td>\n",
       "      <td>2011-03-14</td>\n",
       "      <td>Roman</td>\n",
       "      <td>1390</td>\n",
       "      <td>Roman</td>\n",
       "      <td>34.938093</td>\n",
       "      <td>-9.856322</td>\n",
       "      <td>none</td>\n",
       "      <td>0</td>\n",
       "      <td>...</td>\n",
       "      <td>annually</td>\n",
       "      <td>soft</td>\n",
       "      <td>good</td>\n",
       "      <td>enough</td>\n",
       "      <td>enough</td>\n",
       "      <td>spring</td>\n",
       "      <td>spring</td>\n",
       "      <td>groundwater</td>\n",
       "      <td>communal standpipe</td>\n",
       "      <td>communal standpipe</td>\n",
       "    </tr>\n",
       "    <tr>\n",
       "      <th>1</th>\n",
       "      <td>8776</td>\n",
       "      <td>0.0</td>\n",
       "      <td>2013-03-06</td>\n",
       "      <td>Grumeti</td>\n",
       "      <td>1399</td>\n",
       "      <td>GRUMETI</td>\n",
       "      <td>34.698766</td>\n",
       "      <td>-2.147466</td>\n",
       "      <td>Zahanati</td>\n",
       "      <td>0</td>\n",
       "      <td>...</td>\n",
       "      <td>never pay</td>\n",
       "      <td>soft</td>\n",
       "      <td>good</td>\n",
       "      <td>insufficient</td>\n",
       "      <td>insufficient</td>\n",
       "      <td>rainwater harvesting</td>\n",
       "      <td>rainwater harvesting</td>\n",
       "      <td>surface</td>\n",
       "      <td>communal standpipe</td>\n",
       "      <td>communal standpipe</td>\n",
       "    </tr>\n",
       "    <tr>\n",
       "      <th>2</th>\n",
       "      <td>34310</td>\n",
       "      <td>25.0</td>\n",
       "      <td>2013-02-25</td>\n",
       "      <td>Lottery Club</td>\n",
       "      <td>686</td>\n",
       "      <td>World vision</td>\n",
       "      <td>37.460664</td>\n",
       "      <td>-3.821329</td>\n",
       "      <td>Kwa Mahundi</td>\n",
       "      <td>0</td>\n",
       "      <td>...</td>\n",
       "      <td>per bucket</td>\n",
       "      <td>soft</td>\n",
       "      <td>good</td>\n",
       "      <td>enough</td>\n",
       "      <td>enough</td>\n",
       "      <td>dam</td>\n",
       "      <td>dam</td>\n",
       "      <td>surface</td>\n",
       "      <td>communal standpipe multiple</td>\n",
       "      <td>communal standpipe</td>\n",
       "    </tr>\n",
       "    <tr>\n",
       "      <th>3</th>\n",
       "      <td>67743</td>\n",
       "      <td>0.0</td>\n",
       "      <td>2013-01-28</td>\n",
       "      <td>Unicef</td>\n",
       "      <td>263</td>\n",
       "      <td>UNICEF</td>\n",
       "      <td>38.486161</td>\n",
       "      <td>-11.155298</td>\n",
       "      <td>Zahanati Ya Nanyumbu</td>\n",
       "      <td>0</td>\n",
       "      <td>...</td>\n",
       "      <td>never pay</td>\n",
       "      <td>soft</td>\n",
       "      <td>good</td>\n",
       "      <td>dry</td>\n",
       "      <td>dry</td>\n",
       "      <td>machine dbh</td>\n",
       "      <td>borehole</td>\n",
       "      <td>groundwater</td>\n",
       "      <td>communal standpipe multiple</td>\n",
       "      <td>communal standpipe</td>\n",
       "    </tr>\n",
       "    <tr>\n",
       "      <th>4</th>\n",
       "      <td>19728</td>\n",
       "      <td>0.0</td>\n",
       "      <td>2011-07-13</td>\n",
       "      <td>Action In A</td>\n",
       "      <td>0</td>\n",
       "      <td>Artisan</td>\n",
       "      <td>31.130847</td>\n",
       "      <td>-1.825359</td>\n",
       "      <td>Shuleni</td>\n",
       "      <td>0</td>\n",
       "      <td>...</td>\n",
       "      <td>never pay</td>\n",
       "      <td>soft</td>\n",
       "      <td>good</td>\n",
       "      <td>seasonal</td>\n",
       "      <td>seasonal</td>\n",
       "      <td>rainwater harvesting</td>\n",
       "      <td>rainwater harvesting</td>\n",
       "      <td>surface</td>\n",
       "      <td>communal standpipe</td>\n",
       "      <td>communal standpipe</td>\n",
       "    </tr>\n",
       "  </tbody>\n",
       "</table>\n",
       "<p>5 rows × 40 columns</p>\n",
       "</div>"
      ],
      "text/plain": [
       "      id  amount_tsh date_recorded        funder  gps_height     installer  \\\n",
       "0  69572      6000.0    2011-03-14         Roman        1390         Roman   \n",
       "1   8776         0.0    2013-03-06       Grumeti        1399       GRUMETI   \n",
       "2  34310        25.0    2013-02-25  Lottery Club         686  World vision   \n",
       "3  67743         0.0    2013-01-28        Unicef         263        UNICEF   \n",
       "4  19728         0.0    2011-07-13   Action In A           0       Artisan   \n",
       "\n",
       "   longitude   latitude              wpt_name  num_private  \\\n",
       "0  34.938093  -9.856322                  none            0   \n",
       "1  34.698766  -2.147466              Zahanati            0   \n",
       "2  37.460664  -3.821329           Kwa Mahundi            0   \n",
       "3  38.486161 -11.155298  Zahanati Ya Nanyumbu            0   \n",
       "4  31.130847  -1.825359               Shuleni            0   \n",
       "\n",
       "           ...          payment_type water_quality quality_group  \\\n",
       "0          ...              annually          soft          good   \n",
       "1          ...             never pay          soft          good   \n",
       "2          ...            per bucket          soft          good   \n",
       "3          ...             never pay          soft          good   \n",
       "4          ...             never pay          soft          good   \n",
       "\n",
       "       quantity  quantity_group                source           source_type  \\\n",
       "0        enough          enough                spring                spring   \n",
       "1  insufficient    insufficient  rainwater harvesting  rainwater harvesting   \n",
       "2        enough          enough                   dam                   dam   \n",
       "3           dry             dry           machine dbh              borehole   \n",
       "4      seasonal        seasonal  rainwater harvesting  rainwater harvesting   \n",
       "\n",
       "   source_class              waterpoint_type waterpoint_type_group  \n",
       "0   groundwater           communal standpipe    communal standpipe  \n",
       "1       surface           communal standpipe    communal standpipe  \n",
       "2       surface  communal standpipe multiple    communal standpipe  \n",
       "3   groundwater  communal standpipe multiple    communal standpipe  \n",
       "4       surface           communal standpipe    communal standpipe  \n",
       "\n",
       "[5 rows x 40 columns]"
      ]
     },
     "metadata": {},
     "output_type": "display_data"
    },
    {
     "data": {
      "text/plain": [
       "(59400, 40)"
      ]
     },
     "execution_count": 3,
     "metadata": {},
     "output_type": "execute_result"
    }
   ],
   "source": [
    "display(training_values.head())\n",
    "training_values.shape"
   ]
  },
  {
   "cell_type": "code",
   "execution_count": 4,
   "metadata": {},
   "outputs": [
    {
     "data": {
      "text/html": [
       "<div>\n",
       "<style>\n",
       "    .dataframe thead tr:only-child th {\n",
       "        text-align: right;\n",
       "    }\n",
       "\n",
       "    .dataframe thead th {\n",
       "        text-align: left;\n",
       "    }\n",
       "\n",
       "    .dataframe tbody tr th {\n",
       "        vertical-align: top;\n",
       "    }\n",
       "</style>\n",
       "<table border=\"1\" class=\"dataframe\">\n",
       "  <thead>\n",
       "    <tr style=\"text-align: right;\">\n",
       "      <th></th>\n",
       "      <th>id</th>\n",
       "      <th>status_group</th>\n",
       "    </tr>\n",
       "  </thead>\n",
       "  <tbody>\n",
       "    <tr>\n",
       "      <th>0</th>\n",
       "      <td>69572</td>\n",
       "      <td>functional</td>\n",
       "    </tr>\n",
       "    <tr>\n",
       "      <th>1</th>\n",
       "      <td>8776</td>\n",
       "      <td>functional</td>\n",
       "    </tr>\n",
       "    <tr>\n",
       "      <th>2</th>\n",
       "      <td>34310</td>\n",
       "      <td>functional</td>\n",
       "    </tr>\n",
       "    <tr>\n",
       "      <th>3</th>\n",
       "      <td>67743</td>\n",
       "      <td>non functional</td>\n",
       "    </tr>\n",
       "    <tr>\n",
       "      <th>4</th>\n",
       "      <td>19728</td>\n",
       "      <td>functional</td>\n",
       "    </tr>\n",
       "  </tbody>\n",
       "</table>\n",
       "</div>"
      ],
      "text/plain": [
       "      id    status_group\n",
       "0  69572      functional\n",
       "1   8776      functional\n",
       "2  34310      functional\n",
       "3  67743  non functional\n",
       "4  19728      functional"
      ]
     },
     "metadata": {},
     "output_type": "display_data"
    },
    {
     "data": {
      "text/plain": [
       "(59400, 2)"
      ]
     },
     "execution_count": 4,
     "metadata": {},
     "output_type": "execute_result"
    }
   ],
   "source": [
    "display(training_labels.head())\n",
    "training_labels.shape"
   ]
  },
  {
   "cell_type": "markdown",
   "metadata": {},
   "source": [
    "Let us combine the training_labels and training_values, to form training_data dataframe."
   ]
  },
  {
   "cell_type": "code",
   "execution_count": 5,
   "metadata": {},
   "outputs": [
    {
     "data": {
      "text/html": [
       "<div>\n",
       "<style>\n",
       "    .dataframe thead tr:only-child th {\n",
       "        text-align: right;\n",
       "    }\n",
       "\n",
       "    .dataframe thead th {\n",
       "        text-align: left;\n",
       "    }\n",
       "\n",
       "    .dataframe tbody tr th {\n",
       "        vertical-align: top;\n",
       "    }\n",
       "</style>\n",
       "<table border=\"1\" class=\"dataframe\">\n",
       "  <thead>\n",
       "    <tr style=\"text-align: right;\">\n",
       "      <th></th>\n",
       "      <th>id</th>\n",
       "      <th>amount_tsh</th>\n",
       "      <th>date_recorded</th>\n",
       "      <th>funder</th>\n",
       "      <th>gps_height</th>\n",
       "      <th>installer</th>\n",
       "      <th>longitude</th>\n",
       "      <th>latitude</th>\n",
       "      <th>wpt_name</th>\n",
       "      <th>num_private</th>\n",
       "      <th>...</th>\n",
       "      <th>quality_group</th>\n",
       "      <th>quantity</th>\n",
       "      <th>quantity_group</th>\n",
       "      <th>source</th>\n",
       "      <th>source_type</th>\n",
       "      <th>source_class</th>\n",
       "      <th>waterpoint_type</th>\n",
       "      <th>waterpoint_type_group</th>\n",
       "      <th>idlabels</th>\n",
       "      <th>status_group</th>\n",
       "    </tr>\n",
       "  </thead>\n",
       "  <tbody>\n",
       "    <tr>\n",
       "      <th>1</th>\n",
       "      <td>8776</td>\n",
       "      <td>0.0</td>\n",
       "      <td>2013-03-06</td>\n",
       "      <td>Grumeti</td>\n",
       "      <td>1399</td>\n",
       "      <td>GRUMETI</td>\n",
       "      <td>34.698766</td>\n",
       "      <td>-2.147466</td>\n",
       "      <td>Zahanati</td>\n",
       "      <td>0</td>\n",
       "      <td>...</td>\n",
       "      <td>good</td>\n",
       "      <td>insufficient</td>\n",
       "      <td>insufficient</td>\n",
       "      <td>rainwater harvesting</td>\n",
       "      <td>rainwater harvesting</td>\n",
       "      <td>surface</td>\n",
       "      <td>communal standpipe</td>\n",
       "      <td>communal standpipe</td>\n",
       "      <td>13732</td>\n",
       "      <td>non functional</td>\n",
       "    </tr>\n",
       "    <tr>\n",
       "      <th>2</th>\n",
       "      <td>34310</td>\n",
       "      <td>25.0</td>\n",
       "      <td>2013-02-25</td>\n",
       "      <td>Lottery Club</td>\n",
       "      <td>686</td>\n",
       "      <td>World vision</td>\n",
       "      <td>37.460664</td>\n",
       "      <td>-3.821329</td>\n",
       "      <td>Kwa Mahundi</td>\n",
       "      <td>0</td>\n",
       "      <td>...</td>\n",
       "      <td>good</td>\n",
       "      <td>enough</td>\n",
       "      <td>enough</td>\n",
       "      <td>dam</td>\n",
       "      <td>dam</td>\n",
       "      <td>surface</td>\n",
       "      <td>communal standpipe multiple</td>\n",
       "      <td>communal standpipe</td>\n",
       "      <td>16417</td>\n",
       "      <td>non functional</td>\n",
       "    </tr>\n",
       "    <tr>\n",
       "      <th>4</th>\n",
       "      <td>19728</td>\n",
       "      <td>0.0</td>\n",
       "      <td>2011-07-13</td>\n",
       "      <td>Action In A</td>\n",
       "      <td>0</td>\n",
       "      <td>Artisan</td>\n",
       "      <td>31.130847</td>\n",
       "      <td>-1.825359</td>\n",
       "      <td>Shuleni</td>\n",
       "      <td>0</td>\n",
       "      <td>...</td>\n",
       "      <td>good</td>\n",
       "      <td>seasonal</td>\n",
       "      <td>seasonal</td>\n",
       "      <td>rainwater harvesting</td>\n",
       "      <td>rainwater harvesting</td>\n",
       "      <td>surface</td>\n",
       "      <td>communal standpipe</td>\n",
       "      <td>communal standpipe</td>\n",
       "      <td>45242</td>\n",
       "      <td>functional</td>\n",
       "    </tr>\n",
       "    <tr>\n",
       "      <th>5</th>\n",
       "      <td>9944</td>\n",
       "      <td>20.0</td>\n",
       "      <td>2011-03-13</td>\n",
       "      <td>Mkinga Distric Coun</td>\n",
       "      <td>0</td>\n",
       "      <td>DWE</td>\n",
       "      <td>39.172796</td>\n",
       "      <td>-4.765587</td>\n",
       "      <td>Tajiri</td>\n",
       "      <td>0</td>\n",
       "      <td>...</td>\n",
       "      <td>salty</td>\n",
       "      <td>enough</td>\n",
       "      <td>enough</td>\n",
       "      <td>other</td>\n",
       "      <td>other</td>\n",
       "      <td>unknown</td>\n",
       "      <td>communal standpipe multiple</td>\n",
       "      <td>communal standpipe</td>\n",
       "      <td>20867</td>\n",
       "      <td>functional</td>\n",
       "    </tr>\n",
       "    <tr>\n",
       "      <th>6</th>\n",
       "      <td>19816</td>\n",
       "      <td>0.0</td>\n",
       "      <td>2012-10-01</td>\n",
       "      <td>Dwsp</td>\n",
       "      <td>0</td>\n",
       "      <td>DWSP</td>\n",
       "      <td>33.362410</td>\n",
       "      <td>-3.766365</td>\n",
       "      <td>Kwa Ngomho</td>\n",
       "      <td>0</td>\n",
       "      <td>...</td>\n",
       "      <td>good</td>\n",
       "      <td>enough</td>\n",
       "      <td>enough</td>\n",
       "      <td>machine dbh</td>\n",
       "      <td>borehole</td>\n",
       "      <td>groundwater</td>\n",
       "      <td>hand pump</td>\n",
       "      <td>hand pump</td>\n",
       "      <td>3055</td>\n",
       "      <td>non functional</td>\n",
       "    </tr>\n",
       "  </tbody>\n",
       "</table>\n",
       "<p>5 rows × 42 columns</p>\n",
       "</div>"
      ],
      "text/plain": [
       "      id  amount_tsh date_recorded               funder  gps_height  \\\n",
       "1   8776         0.0    2013-03-06              Grumeti        1399   \n",
       "2  34310        25.0    2013-02-25         Lottery Club         686   \n",
       "4  19728         0.0    2011-07-13          Action In A           0   \n",
       "5   9944        20.0    2011-03-13  Mkinga Distric Coun           0   \n",
       "6  19816         0.0    2012-10-01                 Dwsp           0   \n",
       "\n",
       "      installer  longitude  latitude     wpt_name  num_private  \\\n",
       "1       GRUMETI  34.698766 -2.147466     Zahanati            0   \n",
       "2  World vision  37.460664 -3.821329  Kwa Mahundi            0   \n",
       "4       Artisan  31.130847 -1.825359      Shuleni            0   \n",
       "5           DWE  39.172796 -4.765587       Tajiri            0   \n",
       "6          DWSP  33.362410 -3.766365   Kwa Ngomho            0   \n",
       "\n",
       "        ...       quality_group      quantity quantity_group  \\\n",
       "1       ...                good  insufficient   insufficient   \n",
       "2       ...                good        enough         enough   \n",
       "4       ...                good      seasonal       seasonal   \n",
       "5       ...               salty        enough         enough   \n",
       "6       ...                good        enough         enough   \n",
       "\n",
       "                 source           source_type source_class  \\\n",
       "1  rainwater harvesting  rainwater harvesting      surface   \n",
       "2                   dam                   dam      surface   \n",
       "4  rainwater harvesting  rainwater harvesting      surface   \n",
       "5                 other                 other      unknown   \n",
       "6           machine dbh              borehole  groundwater   \n",
       "\n",
       "               waterpoint_type  waterpoint_type_group idlabels    status_group  \n",
       "1           communal standpipe     communal standpipe    13732  non functional  \n",
       "2  communal standpipe multiple     communal standpipe    16417  non functional  \n",
       "4           communal standpipe     communal standpipe    45242      functional  \n",
       "5  communal standpipe multiple     communal standpipe    20867      functional  \n",
       "6                    hand pump              hand pump     3055  non functional  \n",
       "\n",
       "[5 rows x 42 columns]"
      ]
     },
     "execution_count": 5,
     "metadata": {},
     "output_type": "execute_result"
    }
   ],
   "source": [
    "training_data = training_values.join(training_labels,on=[\"id\"],\n",
    "                     how='inner',lsuffix='_values', \n",
    "                     rsuffix='labels').drop('id_values',axis=1)\n",
    "training_data.head()"
   ]
  },
  {
   "cell_type": "code",
   "execution_count": 6,
   "metadata": {},
   "outputs": [
    {
     "name": "stdout",
     "output_type": "stream",
     "text": [
      "<class 'pandas.core.frame.DataFrame'>\n",
      "Int64Index: 47492 entries, 1 to 59399\n",
      "Data columns (total 42 columns):\n",
      "id                       47492 non-null int64\n",
      "amount_tsh               47492 non-null float64\n",
      "date_recorded            47492 non-null object\n",
      "funder                   44596 non-null object\n",
      "gps_height               47492 non-null int64\n",
      "installer                44580 non-null object\n",
      "longitude                47492 non-null float64\n",
      "latitude                 47492 non-null float64\n",
      "wpt_name                 47492 non-null object\n",
      "num_private              47492 non-null int64\n",
      "basin                    47492 non-null object\n",
      "subvillage               47182 non-null object\n",
      "region                   47492 non-null object\n",
      "region_code              47492 non-null int64\n",
      "district_code            47492 non-null int64\n",
      "lga                      47492 non-null object\n",
      "ward                     47492 non-null object\n",
      "population               47492 non-null int64\n",
      "public_meeting           44854 non-null object\n",
      "recorded_by              47492 non-null object\n",
      "scheme_management        44366 non-null object\n",
      "scheme_name              24989 non-null object\n",
      "permit                   45053 non-null object\n",
      "construction_year        47492 non-null int64\n",
      "extraction_type          47492 non-null object\n",
      "extraction_type_group    47492 non-null object\n",
      "extraction_type_class    47492 non-null object\n",
      "management               47492 non-null object\n",
      "management_group         47492 non-null object\n",
      "payment                  47492 non-null object\n",
      "payment_type             47492 non-null object\n",
      "water_quality            47492 non-null object\n",
      "quality_group            47492 non-null object\n",
      "quantity                 47492 non-null object\n",
      "quantity_group           47492 non-null object\n",
      "source                   47492 non-null object\n",
      "source_type              47492 non-null object\n",
      "source_class             47492 non-null object\n",
      "waterpoint_type          47492 non-null object\n",
      "waterpoint_type_group    47492 non-null object\n",
      "idlabels                 47492 non-null int64\n",
      "status_group             47492 non-null object\n",
      "dtypes: float64(3), int64(8), object(31)\n",
      "memory usage: 10.0+ MB\n"
     ]
    }
   ],
   "source": [
    "training_data.info()"
   ]
  },
  {
   "cell_type": "markdown",
   "metadata": {},
   "source": [
    "### Analysis of amount_tsh\n",
    "Represents the \"Total Static Head\". \n",
    "\n",
    "As per http://sciencing.com/calculate-static-head-7255224.html\n",
    "Static head measures the total vertical distance that a pump raises water. It has two components: static lift and static discharge. Static lift measures the elevation difference between the water source and the pump, while static discharge measures the elevation difference between the discharge point and the pump. Pump head describes pressure in terms of distance, usually in feet or meters. Pressure can be converted between units of distance and units of force per unit area: 2.31 ft of head equals 1 psi (pound per square inch) of pressure.\n",
    "\n",
    "Subtract the elevation of the water source from the elevation of the center line of the pump to determine static lift.\n",
    "\n",
    "Subtract the elevation of the center line of the pump from the elevation of the discharge point of the water to determine the static discharge.\n",
    "\n",
    "Add static lift and static discharge to obtain the total static head.\n",
    "\n",
    "\n",
    "Tip\n",
    "Ensure that the signs are correct throughout your calculations. For example, static lift will be positive if the water source lies below the pump, but negative if it lies above the pump. Drawing a diagram of the system may help you visualize the elevation changes."
   ]
  },
  {
   "cell_type": "code",
   "execution_count": 7,
   "metadata": {},
   "outputs": [
    {
     "data": {
      "text/plain": [
       "0.0         33240\n",
       "500.0        2481\n",
       "50.0         1972\n",
       "20.0         1170\n",
       "1000.0       1166\n",
       "200.0         989\n",
       "10.0          664\n",
       "100.0         653\n",
       "30.0          591\n",
       "2000.0        564\n",
       "250.0         467\n",
       "300.0         434\n",
       "5000.0        367\n",
       "5.0           296\n",
       "25.0          283\n",
       "3000.0        267\n",
       "1200.0        211\n",
       "1500.0        163\n",
       "6.0           154\n",
       "600.0         145\n",
       "4000.0        128\n",
       "2400.0        115\n",
       "2500.0        108\n",
       "6000.0        103\n",
       "7.0            60\n",
       "750.0          52\n",
       "40.0           50\n",
       "10000.0        48\n",
       "8000.0         47\n",
       "12000.0        46\n",
       "            ...  \n",
       "16300.0         2\n",
       "4500.0          2\n",
       "520.0           2\n",
       "350.0           2\n",
       "590.0           2\n",
       "45000.0         2\n",
       "16000.0         2\n",
       "0.2             2\n",
       "13000.0         1\n",
       "138000.0        1\n",
       "53.0            1\n",
       "900.0           1\n",
       "220.0           1\n",
       "200000.0        1\n",
       "26000.0         1\n",
       "12.0            1\n",
       "9.0             1\n",
       "8500.0          1\n",
       "1400.0          1\n",
       "800.0           1\n",
       "120000.0        1\n",
       "26.0            1\n",
       "59.0            1\n",
       "6300.0          1\n",
       "60000.0         1\n",
       "306.0           1\n",
       "5400.0          1\n",
       "250000.0        1\n",
       "38000.0         1\n",
       "350000.0        1\n",
       "Name: amount_tsh, Length: 95, dtype: int64"
      ]
     },
     "execution_count": 7,
     "metadata": {},
     "output_type": "execute_result"
    }
   ],
   "source": [
    "df = training_data\n",
    "#training_data['amount_tsh'].unique()\n",
    "df['amount_tsh'].value_counts()"
   ]
  },
  {
   "cell_type": "code",
   "execution_count": 8,
   "metadata": {},
   "outputs": [
    {
     "data": {
      "image/png": "[encoded data removed]",
      "text/plain": [
       "<matplotlib.figure.Figure at 0x43fb8b0>"
      ]
     },
     "metadata": {},
     "output_type": "display_data"
    }
   ],
   "source": [
    "def ECDF(data):\n",
    "    n = len(data)\n",
    "    x = np.sort(data)\n",
    "    y = np.arange(1,n+1)/n\n",
    "    return x,y\n",
    "x,y = ECDF(df[df['amount_tsh']<10000000]['amount_tsh'])\n",
    "plt.plot(x,y,marker='.',linestyle='none')\n",
    "plt.xlabel(\"amount_tsh\")\n",
    "plt.ylabel(\"ECDF\")\n",
    "plt.margins(0.02)\n",
    "plt.show()"
   ]
  },
  {
   "cell_type": "markdown",
   "metadata": {},
   "source": [
    "Out of 59400 values, 33240 have 0. This means the value of 0 could be representing an unknown value or it could be a genuine value. In any case, we should use std. scaler method to transform this variable, since min-max scaler will be effected by outliers."
   ]
  },
  {
   "cell_type": "markdown",
   "metadata": {},
   "source": [
    "Before analyzing any categorical variable, let us define a helper function to draw a scatter plot, that shows the status of pumps out of the total pumps, grouped by the categorical variable in question."
   ]
  },
  {
   "cell_type": "code",
   "execution_count": 9,
   "metadata": {},
   "outputs": [],
   "source": [
    "def plot_status_split(df,col):\n",
    "    '''\n",
    "       df = Data Frame, along with the status_group variable\n",
    "       col = categorical variable\n",
    "    '''\n",
    "    import seaborn as sns\n",
    "    sns.set(style=\"darkgrid\")\n",
    "\n",
    "    #Get the total pumps at the given col level\n",
    "    total_count=df.groupby([col]).size().reset_index()\n",
    "    total_count.columns=[col,'total']\n",
    "    total_count.index = total_count[col]\n",
    "    total_count = total_count.drop([col],axis=1)\n",
    "\n",
    "    #display(total_count.head())\n",
    "\n",
    "    status_count = df.groupby([col,'status_group']).size().reset_index()\n",
    "    status_count.columns=[col,'status_group','status_total']\n",
    "    status_count.index = status_count[col]\n",
    "    status_count = status_count.drop([col],axis=1)\n",
    "    #display(status_count.head())\n",
    "    joined_df = total_count.join(status_count,how='left')\n",
    "\n",
    "    joined_df['percent'] = joined_df['status_total']/joined_df['total'] * 100\n",
    "    #display(joined_df.head())\n",
    "    \n",
    "    sns.lmplot('total', 'status_total', data=joined_df, hue='status_group', fit_reg=False)\n",
    "    #sns.lmplot('total', 'percent', data=joined_df, hue='status_group', fit_reg=False)\n",
    "    \n",
    "    plt.xlabel(\"Total pumps at \" +col+\" level\")\n",
    "    plt.ylabel(\"Pumps status counts\")\n",
    "    plt.title(\"Relationship between pumps states and \" + col + \" variable\")\n",
    "    plt.show()"
   ]
  },
  {
   "cell_type": "markdown",
   "metadata": {},
   "source": [
    "### Analyzing _funder_ column\n",
    "The _funder_ column refers to the entity who has funded the water project. This column is a categorical column. Let us display some of the rows of this column:"
   ]
  },
  {
   "cell_type": "code",
   "execution_count": 10,
   "metadata": {},
   "outputs": [
    {
     "data": {
      "text/html": [
       "<div>\n",
       "<style>\n",
       "    .dataframe thead tr:only-child th {\n",
       "        text-align: right;\n",
       "    }\n",
       "\n",
       "    .dataframe thead th {\n",
       "        text-align: left;\n",
       "    }\n",
       "\n",
       "    .dataframe tbody tr th {\n",
       "        vertical-align: top;\n",
       "    }\n",
       "</style>\n",
       "<table border=\"1\" class=\"dataframe\">\n",
       "  <thead>\n",
       "    <tr style=\"text-align: right;\">\n",
       "      <th></th>\n",
       "      <th>id</th>\n",
       "      <th>amount_tsh</th>\n",
       "      <th>date_recorded</th>\n",
       "      <th>funder</th>\n",
       "      <th>gps_height</th>\n",
       "      <th>installer</th>\n",
       "      <th>longitude</th>\n",
       "      <th>latitude</th>\n",
       "      <th>wpt_name</th>\n",
       "      <th>num_private</th>\n",
       "      <th>...</th>\n",
       "      <th>quality_group</th>\n",
       "      <th>quantity</th>\n",
       "      <th>quantity_group</th>\n",
       "      <th>source</th>\n",
       "      <th>source_type</th>\n",
       "      <th>source_class</th>\n",
       "      <th>waterpoint_type</th>\n",
       "      <th>waterpoint_type_group</th>\n",
       "      <th>idlabels</th>\n",
       "      <th>status_group</th>\n",
       "    </tr>\n",
       "  </thead>\n",
       "  <tbody>\n",
       "    <tr>\n",
       "      <th>34</th>\n",
       "      <td>41583</td>\n",
       "      <td>0.0</td>\n",
       "      <td>2011-02-23</td>\n",
       "      <td>NaN</td>\n",
       "      <td>-41</td>\n",
       "      <td>NaN</td>\n",
       "      <td>39.812912</td>\n",
       "      <td>-7.889986</td>\n",
       "      <td>Msikitini Wa Ijumaa</td>\n",
       "      <td>0</td>\n",
       "      <td>...</td>\n",
       "      <td>salty</td>\n",
       "      <td>enough</td>\n",
       "      <td>enough</td>\n",
       "      <td>shallow well</td>\n",
       "      <td>shallow well</td>\n",
       "      <td>groundwater</td>\n",
       "      <td>hand pump</td>\n",
       "      <td>hand pump</td>\n",
       "      <td>43984</td>\n",
       "      <td>functional needs repair</td>\n",
       "    </tr>\n",
       "    <tr>\n",
       "      <th>43</th>\n",
       "      <td>19282</td>\n",
       "      <td>0.0</td>\n",
       "      <td>2013-01-15</td>\n",
       "      <td>NaN</td>\n",
       "      <td>1642</td>\n",
       "      <td>NaN</td>\n",
       "      <td>34.967789</td>\n",
       "      <td>-4.628921</td>\n",
       "      <td>Mvae Primary</td>\n",
       "      <td>0</td>\n",
       "      <td>...</td>\n",
       "      <td>unknown</td>\n",
       "      <td>dry</td>\n",
       "      <td>dry</td>\n",
       "      <td>machine dbh</td>\n",
       "      <td>borehole</td>\n",
       "      <td>groundwater</td>\n",
       "      <td>communal standpipe</td>\n",
       "      <td>communal standpipe</td>\n",
       "      <td>776</td>\n",
       "      <td>non functional</td>\n",
       "    </tr>\n",
       "    <tr>\n",
       "      <th>47</th>\n",
       "      <td>13620</td>\n",
       "      <td>0.0</td>\n",
       "      <td>2011-07-27</td>\n",
       "      <td>NaN</td>\n",
       "      <td>0</td>\n",
       "      <td>NaN</td>\n",
       "      <td>33.540607</td>\n",
       "      <td>-9.172905</td>\n",
       "      <td>Mahakamani</td>\n",
       "      <td>0</td>\n",
       "      <td>...</td>\n",
       "      <td>good</td>\n",
       "      <td>enough</td>\n",
       "      <td>enough</td>\n",
       "      <td>spring</td>\n",
       "      <td>spring</td>\n",
       "      <td>groundwater</td>\n",
       "      <td>communal standpipe</td>\n",
       "      <td>communal standpipe</td>\n",
       "      <td>59731</td>\n",
       "      <td>non functional</td>\n",
       "    </tr>\n",
       "    <tr>\n",
       "      <th>65</th>\n",
       "      <td>51072</td>\n",
       "      <td>0.0</td>\n",
       "      <td>2013-02-09</td>\n",
       "      <td>NaN</td>\n",
       "      <td>1415</td>\n",
       "      <td>NaN</td>\n",
       "      <td>34.621598</td>\n",
       "      <td>-5.173136</td>\n",
       "      <td>Nyambi</td>\n",
       "      <td>0</td>\n",
       "      <td>...</td>\n",
       "      <td>unknown</td>\n",
       "      <td>dry</td>\n",
       "      <td>dry</td>\n",
       "      <td>machine dbh</td>\n",
       "      <td>borehole</td>\n",
       "      <td>groundwater</td>\n",
       "      <td>communal standpipe</td>\n",
       "      <td>communal standpipe</td>\n",
       "      <td>54251</td>\n",
       "      <td>functional</td>\n",
       "    </tr>\n",
       "    <tr>\n",
       "      <th>71</th>\n",
       "      <td>17386</td>\n",
       "      <td>0.0</td>\n",
       "      <td>2011-03-31</td>\n",
       "      <td>NaN</td>\n",
       "      <td>0</td>\n",
       "      <td>NaN</td>\n",
       "      <td>34.462228</td>\n",
       "      <td>-8.575780</td>\n",
       "      <td>Kwa Manyusi Mlilo</td>\n",
       "      <td>0</td>\n",
       "      <td>...</td>\n",
       "      <td>good</td>\n",
       "      <td>insufficient</td>\n",
       "      <td>insufficient</td>\n",
       "      <td>river</td>\n",
       "      <td>river/lake</td>\n",
       "      <td>surface</td>\n",
       "      <td>communal standpipe</td>\n",
       "      <td>communal standpipe</td>\n",
       "      <td>61362</td>\n",
       "      <td>functional</td>\n",
       "    </tr>\n",
       "  </tbody>\n",
       "</table>\n",
       "<p>5 rows × 42 columns</p>\n",
       "</div>"
      ],
      "text/plain": [
       "       id  amount_tsh date_recorded funder  gps_height installer  longitude  \\\n",
       "34  41583         0.0    2011-02-23    NaN         -41       NaN  39.812912   \n",
       "43  19282         0.0    2013-01-15    NaN        1642       NaN  34.967789   \n",
       "47  13620         0.0    2011-07-27    NaN           0       NaN  33.540607   \n",
       "65  51072         0.0    2013-02-09    NaN        1415       NaN  34.621598   \n",
       "71  17386         0.0    2011-03-31    NaN           0       NaN  34.462228   \n",
       "\n",
       "    latitude             wpt_name  num_private           ...             \\\n",
       "34 -7.889986  Msikitini Wa Ijumaa            0           ...              \n",
       "43 -4.628921         Mvae Primary            0           ...              \n",
       "47 -9.172905           Mahakamani            0           ...              \n",
       "65 -5.173136               Nyambi            0           ...              \n",
       "71 -8.575780    Kwa Manyusi Mlilo            0           ...              \n",
       "\n",
       "   quality_group      quantity quantity_group        source   source_type  \\\n",
       "34         salty        enough         enough  shallow well  shallow well   \n",
       "43       unknown           dry            dry   machine dbh      borehole   \n",
       "47          good        enough         enough        spring        spring   \n",
       "65       unknown           dry            dry   machine dbh      borehole   \n",
       "71          good  insufficient   insufficient         river    river/lake   \n",
       "\n",
       "   source_class     waterpoint_type  waterpoint_type_group idlabels  \\\n",
       "34  groundwater           hand pump              hand pump    43984   \n",
       "43  groundwater  communal standpipe     communal standpipe      776   \n",
       "47  groundwater  communal standpipe     communal standpipe    59731   \n",
       "65  groundwater  communal standpipe     communal standpipe    54251   \n",
       "71      surface  communal standpipe     communal standpipe    61362   \n",
       "\n",
       "               status_group  \n",
       "34  functional needs repair  \n",
       "43           non functional  \n",
       "47           non functional  \n",
       "65               functional  \n",
       "71               functional  \n",
       "\n",
       "[5 rows x 42 columns]"
      ]
     },
     "execution_count": 10,
     "metadata": {},
     "output_type": "execute_result"
    }
   ],
   "source": [
    "#Displaying some of the rows which have NULL values for funder.\n",
    "df[df['funder'].isnull()].head()"
   ]
  },
  {
   "cell_type": "code",
   "execution_count": 11,
   "metadata": {},
   "outputs": [],
   "source": [
    "##Change the funder's Null values to unknown\n",
    "df['funder'].fillna('unknown',inplace=True)"
   ]
  },
  {
   "cell_type": "markdown",
   "metadata": {},
   "source": [
    "Now that we changed the null values to unknown, let us see how the pupms status change based on the number of pumps funded by the funder."
   ]
  },
  {
   "cell_type": "code",
   "execution_count": 12,
   "metadata": {},
   "outputs": [
    {
     "data": {
      "image/png": "[encoded data removed]",
      "text/plain": [
       "<matplotlib.figure.Figure at 0xf63d3f0>"
      ]
     },
     "metadata": {},
     "output_type": "display_data"
    }
   ],
   "source": [
    "plot_status_split(df,'funder')"
   ]
  },
  {
   "cell_type": "markdown",
   "metadata": {},
   "source": [
    "There is clearly a linear trend in the pumps status. We may have to create dummy variables that capture the number of pumps (ranges) sponsored by the funders."
   ]
  },
  {
   "cell_type": "markdown",
   "metadata": {},
   "source": [
    "Let us analyze the funders name. The funders name is a free form text, so we may see that same funder might be spelled differently."
   ]
  },
  {
   "cell_type": "code",
   "execution_count": 13,
   "metadata": {},
   "outputs": [
    {
     "name": "stdout",
     "output_type": "stream",
     "text": [
      "                           funder  count\n",
      "15                              0    616\n",
      "355                  a/co germany     10\n",
      "223                           aar     22\n",
      "159                        abasia     34\n",
      "976   abc-ihushi development cent      1\n",
      "476                           abd      6\n",
      "1027                       abdala      1\n",
      "1648                       abddwe      1\n",
      "1636                        abdul      1\n",
      "675                         abood      2\n",
      "919                           abs      1\n",
      "368                   aco/germany     10\n",
      "843                         acord      2\n",
      "1323                    acord ngo      1\n",
      "141                          acra     39\n",
      "1335                          act      1\n",
      "849                      act mara      1\n",
      "474                    action aid      6\n",
      "435         action contre la faim      7\n",
      "1156                  action in a      1\n",
      "527                          adap      4\n",
      "22                            adb    371\n",
      "502                           adf      5\n",
      "232                           adp     20\n",
      "697                     adp bungu      2\n"
     ]
    }
   ],
   "source": [
    "##Looks like the text in funder is a free form text. \n",
    "funder_summary = pd.DataFrame(df['funder'].str.lower().value_counts().reset_index())\n",
    "funder_summary.columns = ['funder','count']\n",
    "print(funder_summary.sort_values(['funder']).head(25))"
   ]
  },
  {
   "cell_type": "markdown",
   "metadata": {},
   "source": [
    "Clearly we can see that there are some funders spelled differently, although they refer to the same funder (see a/co germany) and (aco/germany). Another example is \"acord\" and \"acord ngo\". We will use fuzzywuzzy package to map the similar funders."
   ]
  },
  {
   "cell_type": "code",
   "execution_count": 14,
   "metadata": {},
   "outputs": [
    {
     "name": "stdout",
     "output_type": "stream",
     "text": [
      "                    funder  count\n",
      "0   government of tanzania   7252\n",
      "1                  unknown   2900\n",
      "2                   danida   2479\n",
      "3                   hesawa   1746\n",
      "4               world bank   1115\n",
      "5                    rwssp   1106\n",
      "6                     kkkt   1026\n",
      "7             world vision    996\n",
      "8                   unicef    844\n",
      "9                    tasaf    687\n",
      "10        district council    684\n",
      "11      private individual    666\n",
      "12                     dhv    654\n",
      "13                    dwsp    651\n",
      "14                   norad    624\n",
      "15                       0    616\n",
      "16         germany republi    491\n",
      "17                    tcrs    478\n",
      "18                   water    463\n",
      "19       ministry of water    463\n",
      "20             netherlands    380\n",
      "21                     dwe    377\n",
      "22                     adb    371\n",
      "23                     lga    359\n",
      "24                   hifab    349\n",
      "27777\n"
     ]
    }
   ],
   "source": [
    "print(funder_summary.sort_values(['count'],ascending=False).head(25))\n",
    "print(np.sum(funder_summary.sort_values(['count'],ascending=False).head(25)[\"count\"]))"
   ]
  },
  {
   "cell_type": "markdown",
   "metadata": {},
   "source": [
    "To restrict the number of dummy variables, we will only consider the top 25 funders. However, there are some funder names which are spelled differently, although they belong to one of the top 25 funders. The remaining funders (who are not in top 25 or who do not belong to top 25 funders), will be treated as unknown funders. \n",
    "\n",
    "In the above diplay, we can see that 2900 funders have the name \"unknown\". Actually these funders do not have any name (null values), and we imputed with \"unknown\" in the previous step.\n",
    "\n",
    "There are some funders with \"0\" as the name. Looks like these also belong to \"unknown\". The \"norad\" meand \"Norwegian Ministry of Foreign Affairs (NORAD)\", and it should belong to Netherlands. The \"ministry of water\" and \"water\" should belong to the same funder. You can observe that both have the same number of observations 463. Is that coincidence or is there any duplicaion of the data??\n",
    "\n",
    "See the document http://theredddesk.org/sites/default/files/combating_desertification_programme_1.pdf for the abbrivations such as dwe etc.\n",
    "\n",
    "Looks like African Development Bank has many projects. https://www.afdb.org/en/topics-and-sectors/sectors/water-supply-sanitation/projects-activities/activities-in-tanzania/\n",
    "\n",
    "Using the top 25 list, along with the help of google and above docs, I came up with the following mapping logic."
   ]
  },
  {
   "cell_type": "code",
   "execution_count": 15,
   "metadata": {},
   "outputs": [],
   "source": [
    "#reqired packages to perform fuzzy matching\n",
    "from fuzzywuzzy import fuzz\n",
    "from fuzzywuzzy import process\n",
    "\n",
    "funder_dict = {\"government of tanzania\": \"tanzania government\",\n",
    "              \"unknown\":\"unknown\",\n",
    "              \"danida\":\"denmark\",\n",
    "              \"hesawa\":\"hesawa\",\n",
    "              \"world bank\":\"world bank\",\n",
    "              \"rwssp\":\"rwssp\",\n",
    "              \"kkkt\":\"church\",\n",
    "              \"church\":\"church\", \n",
    "               \"baptist\":\"church\",\n",
    "              \"world vision\":\"world vision\",\n",
    "              \"unicef\":\"unicef\",\n",
    "              \"tasaf\":\"tasaf\",\n",
    "              \"district council\":\"tanzania district government\",\n",
    "              \"private individual\":\"unknown\",\n",
    "               \"community\":\"local community\",\n",
    "               \"dhv\":\"dhv\",\n",
    "               \"dwsp\":\"dwsp\",\n",
    "               \"norad\":\"netherlands\",\n",
    "               \"0\": \"unknown\",\n",
    "               \"germany\":\"germany\",\n",
    "               \"tcrs\":\"tcrs\",\n",
    "               \"ministry of water\":\"ministry of water\",\n",
    "               \"water\":\"ministry of water\",\n",
    "               \"netherlands\":\"netherlands\",\n",
    "               \"dwe\":\"tanzania government\",\n",
    "               \"adb\":\"african development bank\",\n",
    "               \"african development bank\":\"african development bank\",\n",
    "               \"lga\":\"tanzania local government\",\n",
    "               \"hifab\":\"hifab\",\n",
    "               \"urban water supply and sanitation project for zanzibar\":\"african development bank\",\n",
    "               \"rural water supply and sanitation\":\"african development bank\",\n",
    "               \"nsgrp\":\"tanzania government\",\n",
    "               \"monduli district water\":\"african development bank\"\n",
    "               \n",
    "              }\n",
    "\n",
    "#Create another column funder_new.\n",
    "#Populate this as follows:\n",
    "#For each value in funder, if there is an exact match with a key in above dict, then use the value of the above dict\n",
    "#If there is NO match, then use values of the above dict, and perform fuzzy match\n",
    "#If there is a match with a score of 80 or more, then use the value, else use \"other\"\n",
    "#Finally we will replace funder with funder_new\n",
    "\n",
    "#funder_dict['sekhar']\n",
    "def find_and_replace(l,map_dict):\n",
    "    funder_new = []\n",
    "    for j in list(l):\n",
    "        try:\n",
    "            funder_new.append(map_dict[str(j).lower()])\n",
    "            continue\n",
    "        except:\n",
    "            word,score = process.extract(j, map_dict.keys(), limit=1)[0]\n",
    "\n",
    "            if score > 85:\n",
    "                funder_new.append(map_dict[word])\n",
    "            else:\n",
    "                funder_new.append(\"unknown\")\n",
    "    return funder_new        \n",
    "funder_new = find_and_replace(df['funder'],funder_dict)\n",
    "#df['funder_new'] = funder_new    "
   ]
  },
  {
   "cell_type": "code",
   "execution_count": 16,
   "metadata": {},
   "outputs": [
    {
     "name": "stdout",
     "output_type": "stream",
     "text": [
      "                         funder                    funder_new\n",
      "1                       Grumeti                       unknown\n",
      "2                  Lottery Club                       unknown\n",
      "4                   Action In A                       unknown\n",
      "5           Mkinga Distric Coun                       unknown\n",
      "6                          Dwsp                          dwsp\n",
      "7                         Rwssp                         rwssp\n",
      "8                      Wateraid             ministry of water\n",
      "9                   Isingiro Ho                       unknown\n",
      "10                      Private                       unknown\n",
      "11                       Danida                       denmark\n",
      "12                 World Vision                  world vision\n",
      "13      Lawatefuka Water Supply             ministry of water\n",
      "14                        Biore                       unknown\n",
      "16                       Unicef                        unicef\n",
      "17                       Unicef                        unicef\n",
      "18                       Hesawa                        hesawa\n",
      "19                       Danida                       denmark\n",
      "20                          Twe                       unknown\n",
      "21                         Dwsp                          dwsp\n",
      "22                       Unicef                        unicef\n",
      "23                          Isf                       unknown\n",
      "24     African Development Bank      african development bank\n",
      "25       Government Of Tanzania           tanzania government\n",
      "26                       Sobodo                       unknown\n",
      "27                       Hesawa                        hesawa\n",
      "28       Government Of Tanzania           tanzania government\n",
      "30                        Water             ministry of water\n",
      "31           Private Individual                       unknown\n",
      "32       Government Of Tanzania           tanzania government\n",
      "33                         Undp                       unknown\n",
      "...                         ...                           ...\n",
      "59364                        He                        hesawa\n",
      "59365                    Unicef                        unicef\n",
      "59366                   unknown                       unknown\n",
      "59369                 Rc Church                        church\n",
      "59370                   unknown                       unknown\n",
      "59371               Netherlands                   netherlands\n",
      "59372                       Tlc                       unknown\n",
      "59373                     Rudep                       unknown\n",
      "59374                     Rwssp                         rwssp\n",
      "59375    Government Of Tanzania           tanzania government\n",
      "59376                   unknown                       unknown\n",
      "59377    Government Of Tanzania           tanzania government\n",
      "59378                        Rc                        church\n",
      "59379                        Do                       unknown\n",
      "59380                     Roman                       unknown\n",
      "59382                 Ces(gmbh)                       unknown\n",
      "59383                World Bank                    world bank\n",
      "59385                     Jaica                       unknown\n",
      "59386                       Adb      african development bank\n",
      "59387                         0                       unknown\n",
      "59389                        Co  tanzania district government\n",
      "59390                     Rudep                       unknown\n",
      "59391    Government Of Tanzania           tanzania government\n",
      "59392    Government Of Tanzania           tanzania government\n",
      "59393                   Private                       unknown\n",
      "59394                World Bank                    world bank\n",
      "59396               Cefa-njombe                       unknown\n",
      "59397                   unknown                       unknown\n",
      "59398                     Malec                       unknown\n",
      "59399                World Bank                    world bank\n",
      "\n",
      "[47492 rows x 2 columns]\n",
      "                           index  funder_new\n",
      "0                        unknown       19139\n",
      "1            tanzania government        7739\n",
      "2                        denmark        2493\n",
      "3              ministry of water        2328\n",
      "4                         church        2040\n",
      "5                         hesawa        1919\n",
      "6                     world bank        1254\n",
      "7                          rwssp        1157\n",
      "8                    netherlands        1105\n",
      "9                   world vision        1053\n",
      "10                        unicef         951\n",
      "11  tanzania district government         906\n",
      "12      african development bank         899\n",
      "13                           dhv         872\n",
      "14                         tasaf         859\n",
      "15                          dwsp         710\n",
      "16                       germany         609\n",
      "17                          tcrs         497\n",
      "18     tanzania local government         387\n",
      "19                         hifab         350\n",
      "20               local community         225\n"
     ]
    }
   ],
   "source": [
    "#After mapping\n",
    "df[\"funder_new\"] = funder_new\n",
    "print(df[[\"funder\",\"funder_new\"]])\n",
    "#set(funder_new)\n",
    "print(pd.DataFrame(df['funder_new'].str.lower().value_counts().reset_index()))"
   ]
  },
  {
   "cell_type": "markdown",
   "metadata": {},
   "source": [
    "How does the trend look after grouping the funders?"
   ]
  },
  {
   "cell_type": "code",
   "execution_count": 17,
   "metadata": {},
   "outputs": [
    {
     "data": {
      "image/png": "[encoded data removed]",
      "text/plain": [
       "<matplotlib.figure.Figure at 0x111bd470>"
      ]
     },
     "metadata": {},
     "output_type": "display_data"
    }
   ],
   "source": [
    "plot_status_split(df,'funder_new')"
   ]
  },
  {
   "cell_type": "markdown",
   "metadata": {},
   "source": [
    "### Analyzing gps_height\n",
    "The gps_height column contains the hight above the sea level (units unknown). "
   ]
  },
  {
   "cell_type": "code",
   "execution_count": 18,
   "metadata": {},
   "outputs": [
    {
     "data": {
      "image/png": "[encoded data removed]",
      "text/plain": [
       "<matplotlib.figure.Figure at 0x111bdbf0>"
      ]
     },
     "metadata": {},
     "output_type": "display_data"
    }
   ],
   "source": [
    "def ECDF(data):\n",
    "    n = len(data)\n",
    "    x = np.sort(data)\n",
    "    y = np.arange(1,n+1)/n\n",
    "    return x,y\n",
    "x,y = ECDF(df['gps_height'])\n",
    "plt.plot(x,y,marker='.',linestyle='none')\n",
    "plt.xlabel(\"gps_height\")\n",
    "plt.ylabel(\"ECDF\")\n",
    "plt.margins(0.02)\n",
    "plt.show()"
   ]
  },
  {
   "cell_type": "markdown",
   "metadata": {},
   "source": [
    "Approximately 38% of the gps_height values have a value of less than or equal to 0. Negative altitude is possible, if the area lies below the sealevel. As per https://en.wikipedia.org/wiki/Sea_level, it is very difficult to measure the sealevel accurately, so we will leave this variable as it is, but we will scale it using std. scaler."
   ]
  },
  {
   "cell_type": "markdown",
   "metadata": {},
   "source": [
    "## Analyzing installer\n",
    "It is a categorical variable"
   ]
  },
  {
   "cell_type": "code",
   "execution_count": 19,
   "metadata": {},
   "outputs": [
    {
     "data": {
      "text/plain": [
       "DWE                           13981\n",
       "Government                     1434\n",
       "RWE                             970\n",
       "Commu                           843\n",
       "DANIDA                          822\n",
       "KKKT                            721\n",
       "Hesawa                          653\n",
       "0                               616\n",
       "TCRS                            556\n",
       "Central government              513\n",
       "CES                             491\n",
       "Community                       446\n",
       "District Council                443\n",
       "DANID                           441\n",
       "HESAWA                          428\n",
       "World vision                    333\n",
       "LGA                             329\n",
       "Gover                           309\n",
       "WEDECO                          309\n",
       "District council                305\n",
       "TASAF                           303\n",
       "TWESA                           268\n",
       "AMREF                           259\n",
       "Dmdd                            232\n",
       "ACRA                            230\n",
       "WU                              230\n",
       "World Vision                    210\n",
       "DW                              199\n",
       "SEMA                            196\n",
       "Da                              187\n",
       "                              ...  \n",
       "Bingo foundation Germany          1\n",
       "BABTEST                           1\n",
       "Marijan Ally Dadi                 1\n",
       "CHONJA CHARLES                    1\n",
       "SHIP                              1\n",
       "Mwl. Nyerere sec. school          1\n",
       "School Adm9nstrarion              1\n",
       "Friend from UN                    1\n",
       "Recoda                            1\n",
       "DWE&                              1\n",
       "Fin Water                         1\n",
       "Wamissionari wa kikatoriki        1\n",
       "L                                 1\n",
       "Matyenye                          1\n",
       "MP Mloka                          1\n",
       "WDE                               1\n",
       "MMG GOLD MINE                     1\n",
       "Ju                                1\n",
       "Humfreys Co                       1\n",
       "Government /TCRS                  1\n",
       "Regina group                      1\n",
       "Sh                                1\n",
       "Hilfe Fur Bruder                  1\n",
       "LIZAD                             1\n",
       "ViLLAGE COUNCIL                   1\n",
       "TLC/Nyengesa Masanja              1\n",
       "IS                                1\n",
       "Makusa                            1\n",
       "PRINCE MEDIUM SCHOOL              1\n",
       "Mombo urban  water                1\n",
       "Name: installer, Length: 1912, dtype: int64"
      ]
     },
     "execution_count": 19,
     "metadata": {},
     "output_type": "execute_result"
    }
   ],
   "source": [
    "df['installer'].value_counts()"
   ]
  },
  {
   "cell_type": "code",
   "execution_count": 20,
   "metadata": {},
   "outputs": [],
   "source": [
    "##Change the installer's Null values to unknown\n",
    "df['installer'].fillna('unknown',inplace=True)\n",
    "df['installer'][df['installer'] == '-'] = 'unknown'\n",
    "installer_new = find_and_replace(df['installer'],funder_dict)"
   ]
  },
  {
   "cell_type": "code",
   "execution_count": 21,
   "metadata": {},
   "outputs": [
    {
     "name": "stdout",
     "output_type": "stream",
     "text": [
      "                  installer                 installer_new\n",
      "1                   GRUMETI                       unknown\n",
      "2              World vision                  world vision\n",
      "4                   Artisan                       unknown\n",
      "5                       DWE           tanzania government\n",
      "6                      DWSP                          dwsp\n",
      "7                       DWE           tanzania government\n",
      "8                 Water Aid             ministry of water\n",
      "9                   Artisan                       unknown\n",
      "10                  Private                       unknown\n",
      "11                   DANIDA                       denmark\n",
      "12             World vision                  world vision\n",
      "13     Lawatefuka water sup             ministry of water\n",
      "14                   WEDECO                       unknown\n",
      "16                      DWE           tanzania government\n",
      "17                      DWE           tanzania government\n",
      "18                      DWE           tanzania government\n",
      "19                    Danid                       denmark\n",
      "20                      TWE                       unknown\n",
      "21                      DWE           tanzania government\n",
      "22                      DWE           tanzania government\n",
      "23                      ISF                       unknown\n",
      "24                      DWE           tanzania government\n",
      "25                      DWE           tanzania government\n",
      "26              Kilolo Star                       unknown\n",
      "27                      DWE           tanzania government\n",
      "28         District council  tanzania district government\n",
      "30                    Water             ministry of water\n",
      "31                       WU                       unknown\n",
      "32                      DWE           tanzania government\n",
      "33                      DWE           tanzania government\n",
      "...                     ...                           ...\n",
      "59364                    HE                        hesawa\n",
      "59365                   DWE           tanzania government\n",
      "59366               unknown                       unknown\n",
      "59369             RC Church                        church\n",
      "59370               unknown                       unknown\n",
      "59371                   DWE           tanzania government\n",
      "59372                   TLC                       unknown\n",
      "59373                Distri  tanzania district government\n",
      "59374                   DWE           tanzania government\n",
      "59375                   DWE           tanzania government\n",
      "59376               unknown                       unknown\n",
      "59377            Government           tanzania government\n",
      "59378                  ACRA                       unknown\n",
      "59379                    DO                       unknown\n",
      "59380                 Roman                       unknown\n",
      "59382                   DWE           tanzania government\n",
      "59383            World bank                    world bank\n",
      "59385              JAICA CO                       unknown\n",
      "59386                   DWE           tanzania government\n",
      "59387                     0                       unknown\n",
      "59389                   DWE           tanzania government\n",
      "59390                   DWE           tanzania government\n",
      "59391            Government           tanzania government\n",
      "59392            Government           tanzania government\n",
      "59393               Private                       unknown\n",
      "59394              ML appro                       unknown\n",
      "59396                  Cefa                       unknown\n",
      "59397               unknown                       unknown\n",
      "59398                  Musa                       unknown\n",
      "59399                 World                    world bank\n",
      "\n",
      "[47492 rows x 2 columns]\n",
      "                           index  installer_new\n",
      "0                        unknown          18758\n",
      "1            tanzania government          16233\n",
      "2              ministry of water           1805\n",
      "3                        denmark           1585\n",
      "4                local community           1581\n",
      "5                         church           1561\n",
      "6                         hesawa           1313\n",
      "7   tanzania district government            992\n",
      "8                   world vision            600\n",
      "9                           tcrs            591\n",
      "10                         tasaf            436\n",
      "11     tanzania local government            368\n",
      "12                          dwsp            354\n",
      "13                   netherlands            331\n",
      "14                    world bank            271\n",
      "15                        unicef            211\n",
      "16                           dhv            207\n",
      "17                         rwssp            155\n",
      "18      african development bank            100\n",
      "19                       germany             40\n"
     ]
    }
   ],
   "source": [
    "df['installer']\n",
    "df[\"installer_new\"] = installer_new\n",
    "print(df[[\"installer\",\"installer_new\"]])\n",
    "#set(funder_new)\n",
    "print(pd.DataFrame(df['installer_new'].str.lower().value_counts().reset_index()))"
   ]
  },
  {
   "cell_type": "code",
   "execution_count": null,
   "metadata": {
    "collapsed": true
   },
   "outputs": [],
   "source": []
  },
  {
   "cell_type": "code",
   "execution_count": 22,
   "metadata": {},
   "outputs": [
    {
     "data": {
      "image/png": "[encoded data removed]",
      "text/plain": [
       "<matplotlib.figure.Figure at 0x1114f2b0>"
      ]
     },
     "metadata": {},
     "output_type": "display_data"
    }
   ],
   "source": [
    "plot_status_split(df,'installer_new')"
   ]
  },
  {
   "cell_type": "markdown",
   "metadata": {},
   "source": [
    "## funder_installer_same (new variable)\n",
    "Let us create a new variable called funder_installer_same. We will use fuzzy matching, and call it a match, if the score is at least 85, else mismatch. If the funder and the installer are the same for a project, then it is possible that the quality of the pump installation might vary. "
   ]
  },
  {
   "cell_type": "code",
   "execution_count": 23,
   "metadata": {},
   "outputs": [],
   "source": [
    "funder_installer_same = list()\n",
    "for i, j in zip(list(df['funder']),list(df['installer'])):\n",
    "    if (fuzz.ratio(i,j) >= 85 or fuzz.partial_ratio(i,j) >= 85 or fuzz.token_sort_ratio(i,j) >= 85) and \\\n",
    "         (i != 'unknown' and j != 'unknown') :\n",
    "        funder_installer_same.append(1)\n",
    "        continue\n",
    "    else:\n",
    "        funder_installer_same.append(0)\n",
    "df[\"funder_installer_same\"] = funder_installer_same"
   ]
  },
  {
   "cell_type": "code",
   "execution_count": 24,
   "metadata": {},
   "outputs": [
    {
     "name": "stdout",
     "output_type": "stream",
     "text": [
      "0    28797\n",
      "1    18695\n",
      "Name: funder_installer_same, dtype: int64\n",
      "Approximately 39.36452455150341 pumps were installed by the same organization who funded the project.\n"
     ]
    }
   ],
   "source": [
    "print(df[\"funder_installer_same\"].value_counts())\n",
    "perc = df[\"funder_installer_same\"].value_counts().iloc[1]/np.sum(df[\"funder_installer_same\"].value_counts()) * 100\n",
    "print(\"Approximately {} pumps were installed by the same organization who funded the project.\".format(perc))"
   ]
  },
  {
   "cell_type": "code",
   "execution_count": 25,
   "metadata": {},
   "outputs": [
    {
     "data": {
      "image/png": "[encoded data removed]",
      "text/plain": [
       "<matplotlib.figure.Figure at 0x111138d0>"
      ]
     },
     "metadata": {},
     "output_type": "display_data"
    }
   ],
   "source": [
    "plot_status_split(df,'funder_installer_same')"
   ]
  },
  {
   "cell_type": "markdown",
   "metadata": {},
   "source": [
    "## latitude and longitude\n",
    "\n",
    "Let us analyze these two columns. How many of these two columns have 0s or null values?"
   ]
  },
  {
   "cell_type": "code",
   "execution_count": 26,
   "metadata": {},
   "outputs": [
    {
     "name": "stdout",
     "output_type": "stream",
     "text": [
      "There are 1452 rows with unknown latitude and longitude values\n"
     ]
    }
   ],
   "source": [
    "print(\"There are {} rows with unknown latitude and longitude values\". \\\n",
    "      format(sum((np.round(df['latitude']) == 0) | (np.round(df['longitude']) == 0))))\n"
   ]
  },
  {
   "cell_type": "markdown",
   "metadata": {},
   "source": [
    "Latitude and longitude of 0 (after rounding is incorrect). 0 might represent unknown value. We will use average of latitude and longitute, group by _ward_ column to populate missing latitude and longitude values respectively.\n",
    "\n",
    "The _ward_ column represents the ward name, and none of the values of this column are unknown or nulls. Moreover _ward_ is the smallest region size given in the data set (https://en.wikipedia.org/wiki/Subdivisions_of_Tanzania).\n",
    "\n",
    "However, if all the latitudes and longitudes of a ward are 0, then we should consider the next level, _lga_, the local government authority. The _lga_ also do not have any null values. If the _lga_ level also has 0 latitude/longitude, then we will use group by at region level. At region column also has no null values. While it is unlikely, there is a chance that region level may also have 0 latitude and longitude. If this happens, we want to be alerted, so that we can check the incoming data."
   ]
  },
  {
   "cell_type": "code",
   "execution_count": 27,
   "metadata": {},
   "outputs": [
    {
     "name": "stdout",
     "output_type": "stream",
     "text": [
      "0\n",
      "0\n",
      "0\n"
     ]
    }
   ],
   "source": [
    "print(sum(df['ward'].isnull()))\n",
    "print(sum(df['lga'].isnull()))\n",
    "print(sum(df['region'].isnull()))"
   ]
  },
  {
   "cell_type": "code",
   "execution_count": 28,
   "metadata": {},
   "outputs": [
    {
     "name": "stdout",
     "output_type": "stream",
     "text": [
      "           ward  avg_latitude  avg_longitude\n",
      "0       Aghondi     -5.755730      34.694762\n",
      "1        Akheri     -3.361883      36.777325\n",
      "2         Arash     -2.303697      35.519736\n",
      "3          Arri     -4.226358      35.592262\n",
      "4  Arusha Chini     -3.489477      37.350959\n",
      "\n",
      "\n",
      "\n",
      "            lga  avg_latitude  avg_longitude\n",
      "0  Arusha Rural     -3.361613      36.700674\n",
      "1  Arusha Urban     -3.391959      36.686171\n",
      "2        Babati     -4.145967      35.674411\n",
      "3      Bagamoyo     -6.460694      38.608572\n",
      "4          Bahi     -6.074641      35.528436\n",
      "\n",
      "\n",
      "\n",
      "          region  avg_latitude  avg_longitude\n",
      "0         Arusha     -3.246777      36.555548\n",
      "1  Dar es Salaam     -6.910724      39.218210\n",
      "2         Dodoma     -5.931256      36.044719\n",
      "3         Iringa     -8.910737      34.897560\n",
      "4         Kagera     -1.966391      31.230113\n"
     ]
    }
   ],
   "source": [
    "avg_lat_long_by_ward_df = df[df['longitude'] != 0]. \\\n",
    "groupby(['ward'])['latitude','longitude'].mean().reset_index()\n",
    "avg_lat_long_by_ward_df.columns=['ward','avg_latitude','avg_longitude']\n",
    "\n",
    "avg_lat_long_by_lga_df = df[df['longitude'] != 0]. \\\n",
    "groupby(['lga'])['latitude','longitude'].mean().reset_index()\n",
    "avg_lat_long_by_lga_df.columns=['lga','avg_latitude','avg_longitude']\n",
    "\n",
    "avg_lat_long_by_region_df = df[df['longitude'] != 0]. \\\n",
    "groupby(['region'])['latitude','longitude'].mean().reset_index()\n",
    "\n",
    "avg_lat_long_by_region_df.columns=['region','avg_latitude','avg_longitude']\n",
    "\n",
    "\n",
    "print(avg_lat_long_by_ward_df.head())\n",
    "print(\"\\n\\n\")\n",
    "print(avg_lat_long_by_lga_df.head())\n",
    "print(\"\\n\\n\")\n",
    "print(avg_lat_long_by_region_df.head())\n",
    "\n"
   ]
  },
  {
   "cell_type": "code",
   "execution_count": 29,
   "metadata": {},
   "outputs": [],
   "source": [
    "avg_lat_ward_dict = dict(zip(list(avg_lat_long_by_ward_df['ward']),list(avg_lat_long_by_ward_df['avg_latitude'])))\n",
    "avg_long_ward_dict = dict(zip(list(avg_lat_long_by_ward_df['ward']),list(avg_lat_long_by_ward_df['avg_longitude'])))\n",
    "\n",
    "avg_lat_lga_dict = dict(zip(list(avg_lat_long_by_lga_df['lga']),list(avg_lat_long_by_ward_df['avg_latitude'])))\n",
    "avg_long_lga_dict = dict(zip(list(avg_lat_long_by_lga_df['lga']),list(avg_lat_long_by_ward_df['avg_longitude'])))\n",
    "\n",
    "avg_lat_region_dict = dict(zip(list(avg_lat_long_by_region_df['region']),\\\n",
    "                               list(avg_lat_long_by_region_df['avg_latitude'])))\n",
    "\n",
    "avg_long_region_dict = dict(zip(list(avg_lat_long_by_region_df['region']),\\\n",
    "                                list(avg_lat_long_by_region_df['avg_longitude'])))\n"
   ]
  },
  {
   "cell_type": "code",
   "execution_count": 30,
   "metadata": {},
   "outputs": [],
   "source": [
    "latitude = []\n",
    "longitude = []\n",
    "for (i, j, k, l, m) in zip(list(df['latitude']),list(df['longitude']), \\\n",
    "                        list(df['ward']),list(df['lga']),list(df['region'])):\n",
    "    if np.round(j) == 0 or np.round(j) == 0:\n",
    "        try:\n",
    "            latitude.append(avg_lat_ward_dict[k])\n",
    "            longitude.append(avg_long_ward_dict[k])\n",
    "        except:\n",
    "            try:\n",
    "                latitude.append(avg_lat_lga_dict[l])\n",
    "                longitude.append(avg_long_lga_dict[l])\n",
    "                continue\n",
    "            except:\n",
    "                try:\n",
    "                    latitude.append(avg_lat_region_dict[m])\n",
    "                    longitude.append(avg_long_region_dict[m])\n",
    "                    continue\n",
    "                except:   \n",
    "                    print(\"Lat/Long NOT found at region level also. Terminating..\")\n",
    "    else:\n",
    "        latitude.append(i)\n",
    "        longitude.append(j)        \n"
   ]
  },
  {
   "cell_type": "code",
   "execution_count": 31,
   "metadata": {},
   "outputs": [],
   "source": [
    "df[\"latitude_new\"] = latitude\n",
    "df[\"longitude_new\"] = longitude"
   ]
  },
  {
   "cell_type": "code",
   "execution_count": 32,
   "metadata": {},
   "outputs": [
    {
     "name": "stdout",
     "output_type": "stream",
     "text": [
      "           latitude  latitude_new  longitude  longitude_new\n",
      "21    -2.000000e-08     -5.639425        0.0      35.687971\n",
      "53    -2.000000e-08     -2.615618        0.0      33.087889\n",
      "177   -2.000000e-08     -2.890831        0.0      34.094610\n",
      "253   -2.000000e-08     -1.199354        0.0      31.817468\n",
      "256   -2.000000e-08     -2.615618        0.0      33.087889\n",
      "321   -2.000000e-08     -5.639425        0.0      35.687971\n",
      "323   -2.000000e-08     -2.708503        0.0      33.602357\n",
      "326   -2.000000e-08     -2.615618        0.0      33.087889\n",
      "346   -2.000000e-08     -5.639425        0.0      35.687971\n",
      "370   -2.000000e-08     -2.615618        0.0      33.087889\n",
      "433   -2.000000e-08     -5.639425        0.0      35.687971\n",
      "659   -2.000000e-08     -5.639425        0.0      35.687971\n",
      "678   -2.000000e-08     -1.199354        0.0      31.817468\n",
      "697   -2.000000e-08     -5.639425        0.0      35.687971\n",
      "720   -2.000000e-08     -5.639425        0.0      35.687971\n",
      "733   -2.000000e-08     -5.639425        0.0      35.687971\n",
      "753   -2.000000e-08     -1.199354        0.0      31.817468\n",
      "755   -2.000000e-08     -5.639425        0.0      35.687971\n",
      "798   -2.000000e-08     -5.639425        0.0      35.687971\n",
      "839   -2.000000e-08     -5.639425        0.0      35.687971\n",
      "911   -2.000000e-08     -5.639425        0.0      35.687971\n",
      "939   -2.000000e-08     -5.639425        0.0      35.687971\n",
      "960   -2.000000e-08     -5.639425        0.0      35.687971\n",
      "965   -2.000000e-08     -1.400901        0.0      31.492333\n",
      "971   -2.000000e-08     -5.639425        0.0      35.687971\n",
      "992   -2.000000e-08     -2.890831        0.0      34.094610\n",
      "1054  -2.000000e-08     -5.639425        0.0      35.687971\n",
      "1079  -2.000000e-08     -1.199354        0.0      31.817468\n",
      "1122  -2.000000e-08     -2.615618        0.0      33.087889\n",
      "1168  -2.000000e-08     -5.639425        0.0      35.687971\n",
      "...             ...           ...        ...            ...\n",
      "58071 -2.000000e-08     -5.639425        0.0      35.687971\n",
      "58077 -2.000000e-08     -5.639425        0.0      35.687971\n",
      "58102 -2.000000e-08     -2.615618        0.0      33.087889\n",
      "58257 -2.000000e-08     -2.615618        0.0      33.087889\n",
      "58397 -2.000000e-08     -5.639425        0.0      35.687971\n",
      "58415 -2.000000e-08     -1.326936        0.0      34.277890\n",
      "58416 -2.000000e-08     -1.199354        0.0      31.817468\n",
      "58435 -2.000000e-08     -5.639425        0.0      35.687971\n",
      "58446 -2.000000e-08     -2.615618        0.0      33.087889\n",
      "58463 -2.000000e-08     -2.708503        0.0      33.602357\n",
      "58517 -2.000000e-08     -1.326936        0.0      34.277890\n",
      "58545 -2.000000e-08     -2.615618        0.0      33.087889\n",
      "58550 -2.000000e-08     -3.118784        0.0      34.100801\n",
      "58555 -2.000000e-08     -2.615618        0.0      33.087889\n",
      "58607 -2.000000e-08     -3.118784        0.0      34.100801\n",
      "58678 -2.000000e-08     -2.615618        0.0      33.087889\n",
      "58735 -2.000000e-08     -5.639425        0.0      35.687971\n",
      "58771 -2.000000e-08     -5.639425        0.0      35.687971\n",
      "58837 -2.000000e-08     -5.639425        0.0      35.687971\n",
      "58997 -2.000000e-08     -2.615618        0.0      33.087889\n",
      "59017 -2.000000e-08     -5.639425        0.0      35.687971\n",
      "59111 -2.000000e-08     -5.639425        0.0      35.687971\n",
      "59120 -2.000000e-08     -2.615618        0.0      33.087889\n",
      "59135 -2.000000e-08     -2.615618        0.0      33.087889\n",
      "59158 -2.000000e-08     -5.639425        0.0      35.687971\n",
      "59162 -2.000000e-08     -7.807903        0.0      36.906518\n",
      "59166 -2.000000e-08     -5.639425        0.0      35.687971\n",
      "59208 -2.000000e-08     -5.639425        0.0      35.687971\n",
      "59324 -2.000000e-08     -5.639425        0.0      35.687971\n",
      "59374 -2.000000e-08     -5.639425        0.0      35.687971\n",
      "\n",
      "[1452 rows x 4 columns]\n"
     ]
    }
   ],
   "source": [
    "print(df[[\"latitude\",\"latitude_new\",\"longitude\",\"longitude_new\"]][df[\"longitude\"] == 0])"
   ]
  },
  {
   "cell_type": "markdown",
   "metadata": {},
   "source": [
    "## Analyzing wpt_name\n",
    "Ignore this column, as this contains the name of the water point. "
   ]
  },
  {
   "cell_type": "code",
   "execution_count": 33,
   "metadata": {},
   "outputs": [
    {
     "data": {
      "text/plain": [
       "30643"
      ]
     },
     "execution_count": 33,
     "metadata": {},
     "output_type": "execute_result"
    }
   ],
   "source": [
    "len(set(df['wpt_name']))"
   ]
  },
  {
   "cell_type": "markdown",
   "metadata": {},
   "source": [
    "## Analyzing num_private\n",
    "\n",
    "The significance of this column is not given. Let us get the counts of the distinct values in this column:"
   ]
  },
  {
   "cell_type": "code",
   "execution_count": 34,
   "metadata": {},
   "outputs": [
    {
     "data": {
      "text/plain": [
       "0       46899\n",
       "6          61\n",
       "1          56\n",
       "5          40\n",
       "8          37\n",
       "15         29\n",
       "32         29\n",
       "45         28\n",
       "39         25\n",
       "93         23\n",
       "3          19\n",
       "7          18\n",
       "4          17\n",
       "2          17\n",
       "65         16\n",
       "47         16\n",
       "17         14\n",
       "102        14\n",
       "20         12\n",
       "80         11\n",
       "25         10\n",
       "41         10\n",
       "11          9\n",
       "34          8\n",
       "16          7\n",
       "22          6\n",
       "120         6\n",
       "50          5\n",
       "150         5\n",
       "24          5\n",
       "12          3\n",
       "61          3\n",
       "58          3\n",
       "38          2\n",
       "9           2\n",
       "14          2\n",
       "10          2\n",
       "27          2\n",
       "26          2\n",
       "42          1\n",
       "160         1\n",
       "672         1\n",
       "1402        1\n",
       "698         1\n",
       "280         1\n",
       "450         1\n",
       "55          1\n",
       "131         1\n",
       "23          1\n",
       "213         1\n",
       "180         1\n",
       "755         1\n",
       "1776        1\n",
       "240         1\n",
       "111         1\n",
       "300         1\n",
       "136         1\n",
       "62          1\n",
       "Name: num_private, dtype: int64"
      ]
     },
     "execution_count": 34,
     "metadata": {},
     "output_type": "execute_result"
    }
   ],
   "source": [
    "df['num_private'].value_counts()"
   ]
  },
  {
   "cell_type": "code",
   "execution_count": 35,
   "metadata": {},
   "outputs": [
    {
     "name": "stdout",
     "output_type": "stream",
     "text": [
      "Almost 98.75136865156236% of num_private are 0s\n"
     ]
    }
   ],
   "source": [
    "print(\"Almost {}% of num_private are 0s\".format(df['num_private'].value_counts()[0]/df.shape[0]*100))"
   ]
  },
  {
   "cell_type": "markdown",
   "metadata": {},
   "source": [
    "So ignore the num_private column"
   ]
  },
  {
   "cell_type": "markdown",
   "metadata": {},
   "source": [
    "## Analyzing basin\n",
    "This column does not have any null values, and the number of levels are also reasonable. Let us get the counts of distinct values:"
   ]
  },
  {
   "cell_type": "code",
   "execution_count": 36,
   "metadata": {},
   "outputs": [
    {
     "name": "stdout",
     "output_type": "stream",
     "text": [
      "0\n"
     ]
    },
    {
     "data": {
      "text/plain": [
       "Lake Victoria              8098\n",
       "Pangani                    7165\n",
       "Rufiji                     6392\n",
       "Internal                   6249\n",
       "Lake Tanganyika            5205\n",
       "Wami / Ruvu                4793\n",
       "Lake Nyasa                 4053\n",
       "Ruvuma / Southern Coast    3566\n",
       "Lake Rukwa                 1971\n",
       "Name: basin, dtype: int64"
      ]
     },
     "execution_count": 36,
     "metadata": {},
     "output_type": "execute_result"
    }
   ],
   "source": [
    "print(sum(df['basin'].isnull()))\n",
    "df['basin'].value_counts()"
   ]
  },
  {
   "cell_type": "code",
   "execution_count": 37,
   "metadata": {},
   "outputs": [
    {
     "data": {
      "image/png": "[encoded data removed]",
      "text/plain": [
       "<matplotlib.figure.Figure at 0x110f68b0>"
      ]
     },
     "metadata": {},
     "output_type": "display_data"
    }
   ],
   "source": [
    "plot_status_split(df,'basin')"
   ]
  },
  {
   "cell_type": "markdown",
   "metadata": {},
   "source": [
    "## Analyzing subvillage\n",
    "This variable has null values, and also it has many levels."
   ]
  },
  {
   "cell_type": "code",
   "execution_count": 38,
   "metadata": {},
   "outputs": [
    {
     "data": {
      "text/plain": [
       "310"
      ]
     },
     "execution_count": 38,
     "metadata": {},
     "output_type": "execute_result"
    }
   ],
   "source": [
    "#Number of null values\n",
    "sum(df['subvillage'].isnull())"
   ]
  },
  {
   "cell_type": "code",
   "execution_count": 39,
   "metadata": {},
   "outputs": [
    {
     "data": {
      "text/plain": [
       "Shuleni           409\n",
       "Majengo           405\n",
       "Madukani          400\n",
       "Kati              298\n",
       "Mtakuja           208\n",
       "Sokoni            174\n",
       "M                 158\n",
       "Muungano          144\n",
       "Mbuyuni           128\n",
       "Mlimani           119\n",
       "Songambele        118\n",
       "Msikitini         110\n",
       "Miembeni          106\n",
       "1                  95\n",
       "Kibaoni            91\n",
       "I                  86\n",
       "Mapinduzi          86\n",
       "Mjini              86\n",
       "Mjimwema           85\n",
       "Mkwajuni           85\n",
       "Mwenge             83\n",
       "Mabatini           81\n",
       "Kanisani           81\n",
       "Azimio             79\n",
       "Mbugani            77\n",
       "Zahanati           76\n",
       "Mission            76\n",
       "Misufini           73\n",
       "Bwawani            72\n",
       "Bondeni            71\n",
       "                 ... \n",
       "Nyanghonge          1\n",
       "Mfaranyake          1\n",
       "Mwakijabende        1\n",
       "Lyangalile          1\n",
       "Momoka              1\n",
       "Machadi             1\n",
       "Meserani            1\n",
       "Ushashili           1\n",
       "Ukungwi             1\n",
       "Mushule             1\n",
       "Lirunde             1\n",
       "Panga               1\n",
       "Kichabgani          1\n",
       "Ngyekye             1\n",
       "Sijaona             1\n",
       "Nyaragusu           1\n",
       "Mugarika            1\n",
       "Mkokyama A          1\n",
       "Kaselia             1\n",
       "Lyoma A             1\n",
       "Mpome               1\n",
       "Mduhani             1\n",
       "Gunge Darajani      1\n",
       "Kangeze             1\n",
       "Lwikula             1\n",
       "Ishitamigamba       1\n",
       "Ipera Asilia        1\n",
       "Mang'Ada            1\n",
       "Monuna Kati         1\n",
       "Ditiba              1\n",
       "Name: subvillage, Length: 17259, dtype: int64"
      ]
     },
     "execution_count": 39,
     "metadata": {},
     "output_type": "execute_result"
    }
   ],
   "source": [
    "df['subvillage'].value_counts()"
   ]
  },
  {
   "cell_type": "markdown",
   "metadata": {},
   "source": [
    "We will ignore the subvillege, since it has 17259 distinct classes, and also none of the classes represent significant number of rows in the column. We will revisit this later if our final model has very low score."
   ]
  },
  {
   "cell_type": "code",
   "execution_count": null,
   "metadata": {},
   "outputs": [],
   "source": []
  },
  {
   "cell_type": "markdown",
   "metadata": {},
   "source": [
    "## Analyzing region\n",
    "This column has no null values."
   ]
  },
  {
   "cell_type": "code",
   "execution_count": 40,
   "metadata": {},
   "outputs": [
    {
     "data": {
      "text/plain": [
       "0"
      ]
     },
     "execution_count": 40,
     "metadata": {},
     "output_type": "execute_result"
    }
   ],
   "source": [
    "sum(df['region'].isnull())"
   ]
  },
  {
   "cell_type": "code",
   "execution_count": 43,
   "metadata": {},
   "outputs": [
    {
     "name": "stdout",
     "output_type": "stream",
     "text": [
      "Iringa           4265\n",
      "Shinyanga        4027\n",
      "Mbeya            3700\n",
      "Kilimanjaro      3479\n",
      "Morogoro         3178\n",
      "Arusha           2703\n",
      "Kagera           2610\n",
      "Mwanza           2458\n",
      "Kigoma           2301\n",
      "Pwani            2118\n",
      "Ruvuma           2082\n",
      "Tanga            2047\n",
      "Dodoma           1777\n",
      "Singida          1680\n",
      "Tabora           1552\n",
      "Mara             1528\n",
      "Rukwa            1451\n",
      "Mtwara           1383\n",
      "Manyara          1277\n",
      "Lindi            1239\n",
      "Dar es Salaam     637\n",
      "Name: region, dtype: int64\n"
     ]
    }
   ],
   "source": [
    "print(df['region'].value_counts())"
   ]
  },
  {
   "cell_type": "code",
   "execution_count": 44,
   "metadata": {},
   "outputs": [
    {
     "data": {
      "image/png": "[encoded data removed]",
      "text/plain": [
       "<matplotlib.figure.Figure at 0x110ec870>"
      ]
     },
     "metadata": {},
     "output_type": "display_data"
    }
   ],
   "source": [
    "plot_status_split(df,'region')"
   ]
  },
  {
   "cell_type": "markdown",
   "metadata": {},
   "source": [
    "## Analyzing region_code\n",
    "This is the numeric representation of the region, and can be ignored. However we can see that the following counts and the counts on _region_ column are not the same. We will check this discrepancy later, if we decide to use region_code."
   ]
  },
  {
   "cell_type": "code",
   "execution_count": 45,
   "metadata": {},
   "outputs": [
    {
     "name": "stdout",
     "output_type": "stream",
     "text": [
      "11    4270\n",
      "17    4051\n",
      "12    3700\n",
      "3     3479\n",
      "5     3200\n",
      "18    2616\n",
      "2     2443\n",
      "19    2411\n",
      "16    2301\n",
      "10    2082\n",
      "4     2025\n",
      "1     1777\n",
      "13    1680\n",
      "14    1570\n",
      "20    1528\n",
      "15    1451\n",
      "6     1286\n",
      "21    1277\n",
      "80    1003\n",
      "60     831\n",
      "90     730\n",
      "7      637\n",
      "99     347\n",
      "9      306\n",
      "24     260\n",
      "8      230\n",
      "40       1\n",
      "Name: region_code, dtype: int64\n"
     ]
    }
   ],
   "source": [
    "sum(df['region_code'].isnull())\n",
    "print(df['region_code'].value_counts())"
   ]
  },
  {
   "cell_type": "code",
   "execution_count": 46,
   "metadata": {},
   "outputs": [
    {
     "data": {
      "image/png": "[encoded data removed]",
      "text/plain": [
       "<matplotlib.figure.Figure at 0x110c9f70>"
      ]
     },
     "metadata": {},
     "output_type": "display_data"
    }
   ],
   "source": [
    "plot_status_split(df,'region_code')"
   ]
  },
  {
   "cell_type": "markdown",
   "metadata": {},
   "source": [
    "## Analyzing district_code\n",
    "Since we are using the _region_, I am not sure how important to use the district_code. But there might be a hidden signal on the pump's performance depending the district level government (if the district maintains/installed the pump)."
   ]
  },
  {
   "cell_type": "code",
   "execution_count": 47,
   "metadata": {},
   "outputs": [
    {
     "name": "stdout",
     "output_type": "stream",
     "text": [
      "District code has 0 null values\n",
      "\n",
      "Counts at the district code level:\n",
      "1     9715\n",
      "2     9015\n",
      "3     7987\n",
      "4     7176\n",
      "5     3477\n",
      "6     3234\n",
      "7     2668\n",
      "8      827\n",
      "30     799\n",
      "33     699\n",
      "53     612\n",
      "43     423\n",
      "13     315\n",
      "23     227\n",
      "63     154\n",
      "62      83\n",
      "60      47\n",
      "0       19\n",
      "80      10\n",
      "67       5\n",
      "Name: district_code, dtype: int64\n",
      "\n",
      "Number of districts represented in the data set 20\n"
     ]
    }
   ],
   "source": [
    "print(\"District code has {} null values\\n\".format(sum(df['district_code'].isnull())))\n",
    "print(\"Counts at the district code level:\\n{}\".format(df['district_code'].value_counts()))\n",
    "print(\"\\nNumber of districts represented in the data set {}\".format(df['district_code'].value_counts().shape[0]))"
   ]
  },
  {
   "cell_type": "markdown",
   "metadata": {},
   "source": [
    "As per https://en.wikipedia.org/wiki/Subdivisions_of_Tanzania, Tanzania has 169 districts, but the data set has only 20 districts. As of now we will ignore district_code, but we will revisit our decision later"
   ]
  },
  {
   "cell_type": "code",
   "execution_count": 48,
   "metadata": {},
   "outputs": [
    {
     "data": {
      "image/png": "[encoded data removed]",
      "text/plain": [
       "<matplotlib.figure.Figure at 0xfcd5650>"
      ]
     },
     "metadata": {},
     "output_type": "display_data"
    }
   ],
   "source": [
    "plot_status_split(df,'district_code')"
   ]
  },
  {
   "cell_type": "markdown",
   "metadata": {},
   "source": [
    "## Analyzing lga\n",
    "Analyzing lga - Local Governing Agency"
   ]
  },
  {
   "cell_type": "code",
   "execution_count": 49,
   "metadata": {},
   "outputs": [
    {
     "name": "stdout",
     "output_type": "stream",
     "text": [
      "lga has 0 null values\n",
      "\n",
      "Counts at the lga levels:\n",
      "Njombe              2027\n",
      "Arusha Rural        1018\n",
      "Moshi Rural          999\n",
      "Bariadi              960\n",
      "Rungwe               871\n",
      "Kasulu               871\n",
      "Kilosa               848\n",
      "Mbozi                827\n",
      "Meru                 813\n",
      "Singida Rural        804\n",
      "Bagamoyo             788\n",
      "Kilombero            765\n",
      "Kibondo              706\n",
      "Kyela                697\n",
      "Same                 687\n",
      "Kahama               686\n",
      "Kigoma Rural         669\n",
      "Magu                 662\n",
      "Maswa                637\n",
      "Karagwe              606\n",
      "Mbinga               583\n",
      "Iringa Rural         579\n",
      "Serengeti            567\n",
      "Lushoto              564\n",
      "Songea Rural         558\n",
      "Namtumbo             548\n",
      "Ulanga               542\n",
      "Ngara                539\n",
      "Mvomero              536\n",
      "Mpanda               532\n",
      "                    ... \n",
      "Newala               184\n",
      "Bahi                 183\n",
      "Ileje                176\n",
      "Temeke               172\n",
      "Tarime               166\n",
      "Ngorongoro           158\n",
      "Kiteto               155\n",
      "Sumbawanga Urban     154\n",
      "Shinyanga Urban      153\n",
      "Monduli              151\n",
      "Rorya                150\n",
      "Singida Urban        145\n",
      "Sikonge              136\n",
      "Liwale               132\n",
      "Tabora Urban         129\n",
      "Kilindi              125\n",
      "Nanyumbu             123\n",
      "Ilemela              109\n",
      "Mafia                105\n",
      "Mtwara Urban          90\n",
      "Tanga                 75\n",
      "Morogoro Urban        74\n",
      "Kinondoni             69\n",
      "Bukoba Urban          66\n",
      "Songea Urban          65\n",
      "Moshi Urban           64\n",
      "Kigoma Urban          55\n",
      "Arusha Urban          54\n",
      "Lindi Urban           13\n",
      "Nyamagana              1\n",
      "Name: lga, Length: 125, dtype: int64\n",
      "\n",
      "Number of lga represented in the data set 125\n"
     ]
    }
   ],
   "source": [
    "print(\"lga has {} null values\\n\".format(sum(df['lga'].isnull())))\n",
    "print(\"Counts at the lga levels:\\n{}\".format(df['lga'].value_counts()))\n",
    "print(\"\\nNumber of lga represented in the data set {}\".format(df['lga'].value_counts().shape[0]))\n"
   ]
  },
  {
   "cell_type": "markdown",
   "metadata": {},
   "source": [
    "The _lga_ variable has 0 null values. It has 125 classes or local governing agencies (_lga_). Instead of representing each lga with dummy variables (we need 124 dummy variables), we will divide the agencies based on the number of wells they have. "
   ]
  },
  {
   "cell_type": "code",
   "execution_count": 51,
   "metadata": {},
   "outputs": [
    {
     "data": {
      "image/png": "[encoded data removed]",
      "text/plain": [
       "<matplotlib.figure.Figure at 0xfccf090>"
      ]
     },
     "metadata": {},
     "output_type": "display_data"
    }
   ],
   "source": [
    "plot_status_split(df,'lga')"
   ]
  },
  {
   "cell_type": "markdown",
   "metadata": {},
   "source": [
    "## Analyzing ward\n"
   ]
  },
  {
   "cell_type": "code",
   "execution_count": 53,
   "metadata": {},
   "outputs": [
    {
     "name": "stdout",
     "output_type": "stream",
     "text": [
      "ward has 0 null values\n",
      "\n",
      "Counts at the ward levels:\n",
      "Igosi            252\n",
      "Imalinyi         198\n",
      "Mdandu           189\n",
      "Nduruma          177\n",
      "Siha Kati        170\n",
      "Kitunda          164\n",
      "Msindo           158\n",
      "Mishamo          157\n",
      "Chalinze         153\n",
      "Maji ya Chai     152\n",
      "Usuka            152\n",
      "Vikindu          137\n",
      "Ngarenanyuki     134\n",
      "Chanika          130\n",
      "Matola           120\n",
      "Mtwango          117\n",
      "Zinga/Ikerege    115\n",
      "Ifakara          114\n",
      "Itete            114\n",
      "Olkokola         109\n",
      "Igongolo         108\n",
      "Wanging'ombe     108\n",
      "Kikatiti         107\n",
      "Maramba          105\n",
      "Mvomero          105\n",
      "Maposeni         105\n",
      "Nkungulu         103\n",
      "Mlangali         103\n",
      "Magomeni         103\n",
      "Simbo            100\n",
      "                ... \n",
      "Shilalo            1\n",
      "Budushi            1\n",
      "Igogo              1\n",
      "Bombambili         1\n",
      "Burungura          1\n",
      "Matarawe           1\n",
      "Ukata              1\n",
      "Linda              1\n",
      "Membe              1\n",
      "Nkome              1\n",
      "Murray             1\n",
      "Bukoko             1\n",
      "Machinjioni        1\n",
      "Kimambi            1\n",
      "Mkumbi             1\n",
      "Ijanija            1\n",
      "Thawi              1\n",
      "Mawenzi            1\n",
      "Themi              1\n",
      "Rabuor             1\n",
      "Masukulu           1\n",
      "Boma               1\n",
      "Kinungu            1\n",
      "Subira             1\n",
      "Nsemulwa           1\n",
      "Mlimani            1\n",
      "Nyanungu           1\n",
      "Itewe              1\n",
      "Ifinga             1\n",
      "Izia               1\n",
      "Name: ward, Length: 2084, dtype: int64\n",
      "\n",
      "Number of wards represented in the data set 2084\n"
     ]
    }
   ],
   "source": [
    "print(\"ward has {} null values\\n\".format(sum(df['ward'].isnull())))\n",
    "print(\"Counts at the ward levels:\\n{}\".format(df['ward'].value_counts()))\n",
    "print(\"\\nNumber of wards represented in the data set {}\".format(df['ward'].value_counts().shape[0]))\n"
   ]
  },
  {
   "cell_type": "code",
   "execution_count": 54,
   "metadata": {},
   "outputs": [
    {
     "data": {
      "image/png": "[encoded data removed]",
      "text/plain": [
       "<matplotlib.figure.Figure at 0xfcc5490>"
      ]
     },
     "metadata": {},
     "output_type": "display_data"
    }
   ],
   "source": [
    "plot_status_split(df,'ward')"
   ]
  },
  {
   "cell_type": "markdown",
   "metadata": {},
   "source": [
    "## Analyzing population\n",
    "This is a quantative variable."
   ]
  },
  {
   "cell_type": "code",
   "execution_count": 63,
   "metadata": {},
   "outputs": [
    {
     "data": {
      "text/plain": [
       "0       17075\n",
       "1        5625\n",
       "200      1558\n",
       "150      1511\n",
       "250      1328\n",
       "300      1178\n",
       "100       931\n",
       "50        900\n",
       "500       812\n",
       "350       783\n",
       "120       724\n",
       "400       615\n",
       "60        570\n",
       "30        503\n",
       "40        441\n",
       "80        420\n",
       "450       403\n",
       "20        376\n",
       "600       364\n",
       "230       307\n",
       "75        243\n",
       "1000      221\n",
       "90        214\n",
       "130       211\n",
       "800       211\n",
       "25        204\n",
       "35        201\n",
       "320       187\n",
       "360       180\n",
       "140       179\n",
       "        ...  \n",
       "721         1\n",
       "593         1\n",
       "974         1\n",
       "1070        1\n",
       "1486        1\n",
       "1710        1\n",
       "1742        1\n",
       "431         1\n",
       "687         1\n",
       "879         1\n",
       "975         1\n",
       "1807        1\n",
       "1839        1\n",
       "1903        1\n",
       "3982        1\n",
       "2129        1\n",
       "4210        1\n",
       "2353        1\n",
       "8500        1\n",
       "2385        1\n",
       "656         1\n",
       "688         1\n",
       "976         1\n",
       "1040        1\n",
       "1360        1\n",
       "1680        1\n",
       "1840        1\n",
       "177         1\n",
       "561         1\n",
       "2670        1\n",
       "Name: population, Length: 982, dtype: int64"
      ]
     },
     "execution_count": 63,
     "metadata": {},
     "output_type": "execute_result"
    }
   ],
   "source": [
    "df['population'].value_counts()"
   ]
  },
  {
   "cell_type": "markdown",
   "metadata": {},
   "source": [
    "Approximately 17000 observations have a population value of 0 and 5625 observations have 1. This is unlikely. Perhaps, these values might represent unknown values. Since the data is having outliers (see below plot), let us substitute 0 and 1 by the median value of population."
   ]
  },
  {
   "cell_type": "code",
   "execution_count": 65,
   "metadata": {},
   "outputs": [
    {
     "data": {
      "image/png": "[encoded data removed]",
      "text/plain": [
       "<matplotlib.figure.Figure at 0xfd32230>"
      ]
     },
     "metadata": {},
     "output_type": "display_data"
    }
   ],
   "source": [
    "x,y = ECDF(df['population'])\n",
    "plt.plot(x,y,marker='.',linestyle='none')\n",
    "plt.xlabel(\"population\")\n",
    "plt.ylabel(\"ECDF\")\n",
    "plt.margins(0.02)\n",
    "plt.show()"
   ]
  },
  {
   "cell_type": "markdown",
   "metadata": {},
   "source": [
    "## Analyzing public_meeting\n",
    "Not sure what this variable implies. It has 3 distinct values TRUE, FALSE and nulls."
   ]
  },
  {
   "cell_type": "code",
   "execution_count": 67,
   "metadata": {},
   "outputs": [
    {
     "data": {
      "text/plain": [
       "True       40739\n",
       "False       4115\n",
       "unknown     2638\n",
       "Name: public_meeting, dtype: int64"
      ]
     },
     "execution_count": 67,
     "metadata": {},
     "output_type": "execute_result"
    }
   ],
   "source": [
    "df['public_meeting'].fillna('unknown',inplace=True)\n",
    "df['public_meeting'].value_counts()"
   ]
  },
  {
   "cell_type": "markdown",
   "metadata": {},
   "source": [
    "We will create 3 dummy variables to represent the True, False, and unknown values of this variable."
   ]
  },
  {
   "cell_type": "markdown",
   "metadata": {},
   "source": [
    "## Analyzing recorded_by\n",
    "Ignore this variable, as it has only one value \"GeoData Consultants Ltd\""
   ]
  },
  {
   "cell_type": "markdown",
   "metadata": {},
   "source": [
    "## Analyzing scheme_management"
   ]
  },
  {
   "cell_type": "code",
   "execution_count": 68,
   "metadata": {},
   "outputs": [
    {
     "name": "stdout",
     "output_type": "stream",
     "text": [
      "scheme_management has 3126 null values\n",
      "\n",
      "Counts at the scheme_management levels:\n",
      "VWC                 29360\n",
      "WUG                  4209\n",
      "Water authority      2543\n",
      "WUA                  2301\n",
      "Water Board          2196\n",
      "Parastatal           1329\n",
      "Private operator      863\n",
      "Company               829\n",
      "Other                 600\n",
      "SWC                    80\n",
      "Trust                  55\n",
      "None                    1\n",
      "Name: scheme_management, dtype: int64\n",
      "\n",
      "Number of scheme managements represented in the data set 12\n"
     ]
    }
   ],
   "source": [
    "print(\"scheme_management has {} null values\\n\".format(sum(df['scheme_management'].isnull())))\n",
    "print(\"Counts at the scheme_management levels:\\n{}\".format(df['scheme_management'].value_counts()))\n",
    "print(\"\\nNumber of scheme managements represented in the data set {}\".format(df['scheme_management'].value_counts().shape[0]))\n"
   ]
  },
  {
   "cell_type": "code",
   "execution_count": 69,
   "metadata": {},
   "outputs": [
    {
     "data": {
      "text/plain": [
       "VWC                 29360\n",
       "WUG                  4209\n",
       "unknown              3126\n",
       "Water authority      2543\n",
       "WUA                  2301\n",
       "Water Board          2196\n",
       "Parastatal           1329\n",
       "Private operator      863\n",
       "Company               829\n",
       "Other                 600\n",
       "SWC                    80\n",
       "Trust                  55\n",
       "None                    1\n",
       "Name: scheme_management, dtype: int64"
      ]
     },
     "execution_count": 69,
     "metadata": {},
     "output_type": "execute_result"
    }
   ],
   "source": [
    "df['scheme_management'].fillna('unknown',inplace=True)\n",
    "df['scheme_management'].value_counts()"
   ]
  },
  {
   "cell_type": "code",
   "execution_count": 70,
   "metadata": {},
   "outputs": [
    {
     "data": {
      "image/png": "[encoded data removed]",
      "text/plain": [
       "<matplotlib.figure.Figure at 0xfc259f0>"
      ]
     },
     "metadata": {},
     "output_type": "display_data"
    }
   ],
   "source": [
    "plot_status_split(df,'scheme_management')"
   ]
  },
  {
   "cell_type": "markdown",
   "metadata": {},
   "source": [
    "Create dummy variables or probabilities"
   ]
  },
  {
   "cell_type": "markdown",
   "metadata": {},
   "source": [
    "## Analyzing scheme_name"
   ]
  },
  {
   "cell_type": "code",
   "execution_count": 71,
   "metadata": {},
   "outputs": [
    {
     "name": "stdout",
     "output_type": "stream",
     "text": [
      "scheme_name has 22503 null values\n",
      "\n",
      "Counts at the scheme_name levels:\n",
      "K                                        549\n",
      "None                                     508\n",
      "Borehole                                 445\n",
      "Chalinze wate                            314\n",
      "M                                        311\n",
      "DANIDA                                   295\n",
      "Government                               255\n",
      "Ngana water supplied scheme              217\n",
      "wanging'ombe water supply s              211\n",
      "Bagamoyo wate                            186\n",
      "wanging'ombe supply scheme               185\n",
      "I                                        168\n",
      "Uroki-Bomang'ombe water sup              160\n",
      "N                                        160\n",
      "Kirua kahe gravity water supply trust    157\n",
      "Machumba estate pipe line                149\n",
      "Makwale water supplied sche              132\n",
      "Kijiji                                   132\n",
      "S                                        130\n",
      "mtwango water supply scheme              128\n",
      "Losaa-Kia water supply                   125\n",
      "Mkongoro Two                             124\n",
      "Handeni Trunk Main(H                     123\n",
      "Roman                                    111\n",
      "Mkongoro One                             106\n",
      "Maambreni gravity water supply           103\n",
      "Lyamungo umbwe water supply               98\n",
      "Nabaiye pipe line                         90\n",
      "Kirua kahe pumping water trust            83\n",
      "Nasula gravity water supply               82\n",
      "                                        ... \n",
      "Mwese water supply                         1\n",
      "Ikuna gravity water project                1\n",
      "Chas                                       1\n",
      "Mradi wa Maji shule ya msin                1\n",
      "Nyabibuye                                  1\n",
      "Lirang'wa water supply                     1\n",
      "Kifumangao Water supply                    1\n",
      "Welela Shallow Well                        1\n",
      "Mradi wa maji wa mbugani                   1\n",
      "Busunzu/Nyankwi gravity water              1\n",
      "Kibafuta                                   1\n",
      "Bili                                       1\n",
      "Nyamwaga/keisangura water suplly           1\n",
      "olmolog water                              1\n",
      "Imalampaka water supply                    1\n",
      "NYA /MAK /BUK piped scheme                 1\n",
      "Uyovu water supply                         1\n",
      "Kisogwe                                    1\n",
      "Mradi wa maji wa sed farm                  1\n",
      "Mashati Dispensary  water supply           1\n",
      "Msengoni B water supply                    1\n",
      "Mradi wa maji wa kiloleni                  1\n",
      "BL RC                                      1\n",
      "Kusahuga piped scheme                      1\n",
      "Saadani Chumv                              1\n",
      "Mashati dispensary water supply            1\n",
      "Mradi wa maji wa Kakola                    1\n",
      "Lerang'wa waterbsupply                     1\n",
      "BL sangarini                               1\n",
      "Wisu                                       1\n",
      "Name: scheme_name, Length: 2535, dtype: int64\n",
      "\n",
      "Number of scheme names represented in the data set 2535\n"
     ]
    }
   ],
   "source": [
    "print(\"scheme_name has {} null values\\n\".format(sum(df['scheme_name'].isnull())))\n",
    "print(\"Counts at the scheme_name levels:\\n{}\".format(df['scheme_name'].value_counts()))\n",
    "print(\"\\nNumber of scheme names represented in the data set {}\".format(df['scheme_name'].value_counts().shape[0]))\n"
   ]
  },
  {
   "cell_type": "markdown",
   "metadata": {},
   "source": [
    "Since the scheme has many unknown values, let us ignore this variable. We will revisit this decision later."
   ]
  },
  {
   "cell_type": "markdown",
   "metadata": {},
   "source": [
    "## Analyzing permit\n",
    "It has 3 different values:\n",
    "True, False, nulls"
   ]
  },
  {
   "cell_type": "code",
   "execution_count": 72,
   "metadata": {},
   "outputs": [
    {
     "name": "stdout",
     "output_type": "stream",
     "text": [
      "permit has 2439 null values\n",
      "\n",
      "Counts at the permit levels:\n",
      "True     31069\n",
      "False    13984\n",
      "Name: permit, dtype: int64\n",
      "\n",
      "Number of permits represented in the data set 2\n"
     ]
    }
   ],
   "source": [
    "print(\"permit has {} null values\\n\".format(sum(df['permit'].isnull())))\n",
    "\n",
    "\n",
    "print(\"Counts at the permit levels:\\n{}\".format(df['permit'].value_counts()))\n",
    "print(\"\\nNumber of permits represented in the data set {}\".format(df['permit'].value_counts().shape[0]))\n"
   ]
  },
  {
   "cell_type": "code",
   "execution_count": 75,
   "metadata": {},
   "outputs": [
    {
     "data": {
      "text/plain": [
       "True       31069\n",
       "False      13984\n",
       "unknown     2439\n",
       "Name: permit, dtype: int64"
      ]
     },
     "execution_count": 75,
     "metadata": {},
     "output_type": "execute_result"
    }
   ],
   "source": [
    "df['permit'].fillna('unknown',inplace=True)\n",
    "df['permit'].value_counts()\n"
   ]
  },
  {
   "cell_type": "code",
   "execution_count": 76,
   "metadata": {},
   "outputs": [
    {
     "data": {
      "image/png": "[encoded data removed]",
      "text/plain": [
       "<matplotlib.figure.Figure at 0x11166ed0>"
      ]
     },
     "metadata": {},
     "output_type": "display_data"
    }
   ],
   "source": [
    "plot_status_split(df,'permit')"
   ]
  },
  {
   "cell_type": "markdown",
   "metadata": {},
   "source": [
    "Create dummy variables for permit"
   ]
  },
  {
   "cell_type": "markdown",
   "metadata": {},
   "source": [
    "## Analyzing construction_year"
   ]
  },
  {
   "cell_type": "code",
   "execution_count": 77,
   "metadata": {},
   "outputs": [
    {
     "data": {
      "text/plain": [
       "0       16520\n",
       "2010     2098\n",
       "2008     2081\n",
       "2009     2051\n",
       "2000     1684\n",
       "2007     1303\n",
       "2006     1162\n",
       "2003     1045\n",
       "2011     1018\n",
       "2004      903\n",
       "2002      878\n",
       "2012      853\n",
       "1995      815\n",
       "1978      815\n",
       "2005      815\n",
       "1999      784\n",
       "1990      771\n",
       "1998      770\n",
       "1985      766\n",
       "1980      642\n",
       "1996      634\n",
       "1984      620\n",
       "1982      602\n",
       "1994      595\n",
       "1972      569\n",
       "1974      545\n",
       "1997      519\n",
       "1992      505\n",
       "1993      486\n",
       "2001      418\n",
       "1988      414\n",
       "1983      388\n",
       "1975      349\n",
       "1976      338\n",
       "1986      337\n",
       "1970      324\n",
       "1991      263\n",
       "1989      243\n",
       "1987      231\n",
       "1981      196\n",
       "1977      167\n",
       "1979      155\n",
       "1973      142\n",
       "2013      135\n",
       "1971      123\n",
       "1960       82\n",
       "1967       68\n",
       "1963       67\n",
       "1968       54\n",
       "1969       47\n",
       "1964       29\n",
       "1962       25\n",
       "1965       17\n",
       "1961       16\n",
       "1966       15\n",
       "Name: construction_year, dtype: int64"
      ]
     },
     "execution_count": 77,
     "metadata": {},
     "output_type": "execute_result"
    }
   ],
   "source": [
    "df['construction_year'].value_counts()"
   ]
  },
  {
   "cell_type": "markdown",
   "metadata": {},
   "source": [
    "Looks like the unknown year is represented as 0. Try representing the years based on the probability of failures"
   ]
  },
  {
   "cell_type": "markdown",
   "metadata": {},
   "source": [
    "## Analyzing extraction_type, extraction_type_group and extraction_type_class\n",
    "These 3 variables are related to each other"
   ]
  },
  {
   "cell_type": "code",
   "execution_count": 91,
   "metadata": {},
   "outputs": [
    {
     "name": "stdout",
     "output_type": "stream",
     "text": [
      "gravity                      21406\n",
      "nira/tanira                   6582\n",
      "other                         5178\n",
      "submersible                   3799\n",
      "swn 80                        2913\n",
      "mono                          2293\n",
      "india mark ii                 1884\n",
      "afridev                       1376\n",
      "ksb                           1125\n",
      "other - rope pump              364\n",
      "other - swn 81                 179\n",
      "windmill                       103\n",
      "india mark iii                  79\n",
      "cemo                            74\n",
      "other - play pump               66\n",
      "walimi                          41\n",
      "climax                          28\n",
      "other - mkulima/shinyanga        2\n",
      "Name: extraction_type, dtype: int64\n",
      "\n",
      "It has 0 null values\n"
     ]
    }
   ],
   "source": [
    "print(df['extraction_type'].value_counts())\n",
    "print(\"\\nIt has {} null values\".format(sum(df['extraction_type'].isnull())))"
   ]
  },
  {
   "cell_type": "code",
   "execution_count": 93,
   "metadata": {},
   "outputs": [
    {
     "name": "stdout",
     "output_type": "stream",
     "text": [
      "gravity            21406\n",
      "nira/tanira         6582\n",
      "other               5178\n",
      "submersible         4924\n",
      "swn 80              2913\n",
      "mono                2293\n",
      "india mark ii       1884\n",
      "afridev             1376\n",
      "rope pump            364\n",
      "other handpump       288\n",
      "wind-powered         103\n",
      "other motorpump      102\n",
      "india mark iii        79\n",
      "Name: extraction_type_group, dtype: int64\n",
      "\n",
      "It has 0 null values\n"
     ]
    }
   ],
   "source": [
    "print(df['extraction_type_group'].value_counts())\n",
    "print(\"\\nIt has {} null values\".format(sum(df['extraction_type_group'].isnull())))"
   ]
  },
  {
   "cell_type": "code",
   "execution_count": 95,
   "metadata": {},
   "outputs": [
    {
     "name": "stdout",
     "output_type": "stream",
     "text": [
      "gravity         21406\n",
      "handpump        13122\n",
      "other            5178\n",
      "submersible      4924\n",
      "motorpump        2395\n",
      "rope pump         364\n",
      "wind-powered      103\n",
      "Name: extraction_type_class, dtype: int64\n",
      "\n",
      "It has 0 null values\n"
     ]
    }
   ],
   "source": [
    "print(df['extraction_type_class'].value_counts())\n",
    "print(\"\\nIt has {} null values\".format(sum(df['extraction_type_class'].isnull())))"
   ]
  },
  {
   "cell_type": "markdown",
   "metadata": {},
   "source": [
    "We should include only one of these variables. To determine which variable, let us use CV and pick the one that has the least CV error."
   ]
  },
  {
   "cell_type": "markdown",
   "metadata": {},
   "source": [
    "## Analyzing management and management_group\n",
    "These two variables are also related."
   ]
  },
  {
   "cell_type": "code",
   "execution_count": 96,
   "metadata": {},
   "outputs": [
    {
     "name": "stdout",
     "output_type": "stream",
     "text": [
      "vwc                 32372\n",
      "wug                  5229\n",
      "water board          2379\n",
      "wua                  2030\n",
      "private operator     1595\n",
      "parastatal           1395\n",
      "water authority       704\n",
      "other                 661\n",
      "company               526\n",
      "unknown               457\n",
      "other - school         81\n",
      "trust                  63\n",
      "Name: management, dtype: int64\n",
      "\n",
      "It has 0 null values\n"
     ]
    }
   ],
   "source": [
    "print(df['management'].value_counts())\n",
    "print(\"\\nIt has {} null values\".format(sum(df['management'].isnull())))"
   ]
  },
  {
   "cell_type": "code",
   "execution_count": 97,
   "metadata": {},
   "outputs": [
    {
     "name": "stdout",
     "output_type": "stream",
     "text": [
      "user-group    42010\n",
      "commercial     2888\n",
      "parastatal     1395\n",
      "other           742\n",
      "unknown         457\n",
      "Name: management_group, dtype: int64\n",
      "\n",
      "It has 0 null values\n"
     ]
    }
   ],
   "source": [
    "print(df['management_group'].value_counts())\n",
    "print(\"\\nIt has {} null values\".format(sum(df['management_group'].isnull())))"
   ]
  },
  {
   "cell_type": "markdown",
   "metadata": {},
   "source": [
    "Determine which variable to choose based on CV"
   ]
  },
  {
   "cell_type": "markdown",
   "metadata": {},
   "source": [
    "## Analyzing paymet and payment_type\n",
    "These two variables are also related"
   ]
  },
  {
   "cell_type": "code",
   "execution_count": 98,
   "metadata": {},
   "outputs": [
    {
     "name": "stdout",
     "output_type": "stream",
     "text": [
      "never pay                20240\n",
      "pay per bucket            7226\n",
      "pay monthly               6620\n",
      "unknown                   6501\n",
      "pay when scheme fails     3138\n",
      "pay annually              2927\n",
      "other                      840\n",
      "Name: payment, dtype: int64\n",
      "\n",
      "It has 0 null values\n"
     ]
    }
   ],
   "source": [
    "print(df['payment'].value_counts())\n",
    "print(\"\\nIt has {} null values\".format(sum(df['payment'].isnull())))"
   ]
  },
  {
   "cell_type": "code",
   "execution_count": 99,
   "metadata": {},
   "outputs": [
    {
     "name": "stdout",
     "output_type": "stream",
     "text": [
      "never pay     20240\n",
      "per bucket     7226\n",
      "monthly        6620\n",
      "unknown        6501\n",
      "on failure     3138\n",
      "annually       2927\n",
      "other           840\n",
      "Name: payment_type, dtype: int64\n",
      "\n",
      "It has 0 null values\n"
     ]
    }
   ],
   "source": [
    "print(df['payment_type'].value_counts())\n",
    "print(\"\\nIt has {} null values\".format(sum(df['payment_type'].isnull())))"
   ]
  },
  {
   "cell_type": "markdown",
   "metadata": {},
   "source": [
    "Use payment_type variable"
   ]
  },
  {
   "cell_type": "markdown",
   "metadata": {},
   "source": [
    "## Analyzing water_quality and quality_group"
   ]
  },
  {
   "cell_type": "code",
   "execution_count": 101,
   "metadata": {},
   "outputs": [
    {
     "name": "stdout",
     "output_type": "stream",
     "text": [
      "soft                  40682\n",
      "salty                  3867\n",
      "unknown                1477\n",
      "milky                   649\n",
      "coloured                392\n",
      "salty abandoned         256\n",
      "fluoride                155\n",
      "fluoride abandoned       14\n",
      "Name: water_quality, dtype: int64\n",
      "\n",
      "It has 0 null values\n"
     ]
    }
   ],
   "source": [
    "print(df['water_quality'].value_counts())\n",
    "print(\"\\nIt has {} null values\".format(sum(df['water_quality'].isnull())))"
   ]
  },
  {
   "cell_type": "code",
   "execution_count": 102,
   "metadata": {},
   "outputs": [
    {
     "name": "stdout",
     "output_type": "stream",
     "text": [
      "good        40682\n",
      "salty        4123\n",
      "unknown      1477\n",
      "milky         649\n",
      "colored       392\n",
      "fluoride      169\n",
      "Name: quality_group, dtype: int64\n",
      "\n",
      "It has 0 null values\n"
     ]
    }
   ],
   "source": [
    "print(df['quality_group'].value_counts())\n",
    "print(\"\\nIt has {} null values\".format(sum(df['quality_group'].isnull())))"
   ]
  },
  {
   "cell_type": "markdown",
   "metadata": {},
   "source": [
    "Find which variable to use based on CV score"
   ]
  },
  {
   "cell_type": "markdown",
   "metadata": {},
   "source": [
    "## Analyzing quantity and quantity_group"
   ]
  },
  {
   "cell_type": "code",
   "execution_count": 105,
   "metadata": {},
   "outputs": [
    {
     "name": "stdout",
     "output_type": "stream",
     "text": [
      "enough          26506\n",
      "insufficient    12116\n",
      "dry              5005\n",
      "seasonal         3237\n",
      "unknown           628\n",
      "Name: quantity, dtype: int64\n",
      "\n",
      "It has 0 null values\n"
     ]
    }
   ],
   "source": [
    "print(df['quantity'].value_counts())\n",
    "print(\"\\nIt has {} null values\".format(sum(df['quantity'].isnull())))"
   ]
  },
  {
   "cell_type": "code",
   "execution_count": 106,
   "metadata": {},
   "outputs": [
    {
     "name": "stdout",
     "output_type": "stream",
     "text": [
      "enough          26506\n",
      "insufficient    12116\n",
      "dry              5005\n",
      "seasonal         3237\n",
      "unknown           628\n",
      "Name: quantity_group, dtype: int64\n",
      "\n",
      "It has 0 null values\n"
     ]
    }
   ],
   "source": [
    "print(df['quantity_group'].value_counts())\n",
    "print(\"\\nIt has {} null values\".format(sum(df['quantity_group'].isnull())))"
   ]
  },
  {
   "cell_type": "markdown",
   "metadata": {},
   "source": [
    "Use any variable"
   ]
  },
  {
   "cell_type": "markdown",
   "metadata": {},
   "source": [
    "## Analyzing source, source_type and source_class"
   ]
  },
  {
   "cell_type": "code",
   "execution_count": 107,
   "metadata": {},
   "outputs": [
    {
     "name": "stdout",
     "output_type": "stream",
     "text": [
      "spring                  13567\n",
      "shallow well            13491\n",
      "machine dbh              8794\n",
      "river                    7743\n",
      "rainwater harvesting     1836\n",
      "hand dtw                  705\n",
      "lake                      606\n",
      "dam                       536\n",
      "other                     162\n",
      "unknown                    52\n",
      "Name: source, dtype: int64\n",
      "\n",
      "It has 0 null values\n"
     ]
    }
   ],
   "source": [
    "print(df['source'].value_counts())\n",
    "print(\"\\nIt has {} null values\".format(sum(df['source'].isnull())))"
   ]
  },
  {
   "cell_type": "code",
   "execution_count": 110,
   "metadata": {},
   "outputs": [
    {
     "name": "stdout",
     "output_type": "stream",
     "text": [
      "spring                  13567\n",
      "shallow well            13491\n",
      "borehole                 9499\n",
      "river/lake               8349\n",
      "rainwater harvesting     1836\n",
      "dam                       536\n",
      "other                     214\n",
      "Name: source_type, dtype: int64\n",
      "\n",
      "It has 0 null values\n"
     ]
    }
   ],
   "source": [
    "print(df['source_type'].value_counts())\n",
    "print(\"\\nIt has {} null values\".format(sum(df['source_type'].isnull())))"
   ]
  },
  {
   "cell_type": "code",
   "execution_count": 111,
   "metadata": {},
   "outputs": [
    {
     "name": "stdout",
     "output_type": "stream",
     "text": [
      "groundwater    36557\n",
      "surface        10721\n",
      "unknown          214\n",
      "Name: source_class, dtype: int64\n",
      "\n",
      "It has 0 null values\n"
     ]
    }
   ],
   "source": [
    "print(df['source_class'].value_counts())\n",
    "print(\"\\nIt has {} null values\".format(sum(df['source_class'].isnull())))"
   ]
  },
  {
   "cell_type": "markdown",
   "metadata": {},
   "source": [
    "Use source_type (unknown in source is converted to other in source_type).\n",
    "\n",
    "Use source_class"
   ]
  },
  {
   "cell_type": "markdown",
   "metadata": {},
   "source": [
    "## Analyzing waterpoint_type and waterpoint_type_group"
   ]
  },
  {
   "cell_type": "code",
   "execution_count": 113,
   "metadata": {},
   "outputs": [
    {
     "name": "stdout",
     "output_type": "stream",
     "text": [
      "communal standpipe             22809\n",
      "hand pump                      13937\n",
      "other                           5173\n",
      "communal standpipe multiple     4869\n",
      "improved spring                  609\n",
      "cattle trough                     89\n",
      "dam                                6\n",
      "Name: waterpoint_type, dtype: int64\n",
      "\n",
      "It has 0 null values\n"
     ]
    }
   ],
   "source": [
    "print(df['waterpoint_type'].value_counts())\n",
    "print(\"\\nIt has {} null values\".format(sum(df['waterpoint_type'].isnull())))"
   ]
  },
  {
   "cell_type": "code",
   "execution_count": 114,
   "metadata": {},
   "outputs": [
    {
     "name": "stdout",
     "output_type": "stream",
     "text": [
      "communal standpipe    27678\n",
      "hand pump             13937\n",
      "other                  5173\n",
      "improved spring         609\n",
      "cattle trough            89\n",
      "dam                       6\n",
      "Name: waterpoint_type_group, dtype: int64\n",
      "\n",
      "It has 0 null values\n"
     ]
    }
   ],
   "source": [
    "print(df['waterpoint_type_group'].value_counts())\n",
    "print(\"\\nIt has {} null values\".format(sum(df['waterpoint_type_group'].isnull())))"
   ]
  },
  {
   "cell_type": "markdown",
   "metadata": {},
   "source": [
    "Decide by CV method"
   ]
  },
  {
   "cell_type": "markdown",
   "metadata": {},
   "source": [
    "## Analyzing latitude and longitude"
   ]
  },
  {
   "cell_type": "code",
   "execution_count": 117,
   "metadata": {
    "collapsed": true
   },
   "outputs": [],
   "source": [
    "df['population'].replace(to_replace=25,value=0,inplace=True)"
   ]
  },
  {
   "cell_type": "code",
   "execution_count": 182,
   "metadata": {},
   "outputs": [
    {
     "data": {
      "image/png": "[encoded data removed]",
      "text/plain": [
       "<matplotlib.figure.Figure at 0x1117b650>"
      ]
     },
     "metadata": {},
     "output_type": "display_data"
    }
   ],
   "source": [
    "plt.plot(df[df['status_group']=='functional']['longitude_new'],\n",
    "        df[df['status_group']=='functional']['latitude_new'],color='g',linestyle='none',marker='.',alpha=0.8)\n",
    "\n",
    "plt.plot(df[df['status_group']=='non functional']['longitude_new'],\n",
    "        df[df['status_group']=='non functional']['latitude_new'],color='r',linestyle='none',marker='.',alpha=0.8)\n",
    "\n",
    "plt.plot(df[df['status_group']=='functional needs repair']['longitude_new'],\n",
    "        df[df['status_group']=='functional needs repair']['latitude_new'],color='y',linestyle='none',marker='.',alpha=0.8)\n",
    "#plt.ylim(-2.5,-2.4)\n",
    "#plt.xlim(30.5,30.75)\n",
    "plt.ylim(-12,-11)\n",
    "plt.xlim(35,36)\n",
    "plt.show()"
   ]
  },
  {
   "cell_type": "markdown",
   "metadata": {},
   "source": [
    "It might help to add 3 additional variables:\n",
    "* distance to the nearest functional pump\n",
    "* distance to the nearest non-functional pump\n",
    "* distance to the nearest need to repair pump\n",
    "\n",
    "I am not sure how complex it is to compute these distances."
   ]
  },
  {
   "cell_type": "markdown",
   "metadata": {},
   "source": []
  }
 ],
 "metadata": {
  "kernelspec": {
   "display_name": "Python 3",
   "language": "python",
   "name": "python3"
  },
  "language_info": {
   "codemirror_mode": {
    "name": "ipython",
    "version": 3
   },
   "file_extension": ".py",
   "mimetype": "text/x-python",
   "name": "python",
   "nbconvert_exporter": "python",
   "pygments_lexer": "ipython3",
   "version": "3.6.1"
  }
 },
 "nbformat": 4,
 "nbformat_minor": 2
}
